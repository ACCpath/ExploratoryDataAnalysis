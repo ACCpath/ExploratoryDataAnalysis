{
 "cells": [
  {
   "cell_type": "markdown",
   "id": "ac1774ce",
   "metadata": {},
   "source": [
    "#### <div style=\"text-align: right\"> Update date: May 9, 2023 </div><br>\n",
    "## **Administrative registration of the automotive industry of light vehicles**</br>\n",
    "Administrative registration of the automotive industry of light vehicles, corresponding to the sale, production and export of cars and light trucks in Mexico, presenting the vehicle units at the brand and model level, identifying segment and country of origin or destination, to contribute with users to the\n",
    "knowledge of the automotive industry.<br><br>\n",
    "##### Source: INEGI, Registro Administrativo de la Industria Automotriz de Vehículos Ligeros (RAIAVL).  Your information comes from 22 affiliated companies to the Asociación Mexicana de la Industria Automotriz, A. C. (AMIA), Giant Motors Latinoamérica, Autos Orientales Picacho y Chirey Motor México. The original RAIAVL data source is available [here](https://www.inegi.org.mx/datosprimarios/iavl/).\n",
    "<br><br>\n"
   ]
  },
  {
   "cell_type": "markdown",
   "id": "e354825c",
   "metadata": {},
   "source": [
    "## Exploratory Data Analysis<br>\n",
    "### Objetive<br>\n",
    "Analyze the open data shared by the Instituto Nacional de Estadística y Geografía(INEGI) corresponding to the sale, production and export of cars and light trucks in Mexico during the years 2005 to may 2023, with the purpose of identifying general patterns in the data, values atypical, trends, likewise, understand how the variables are related to prepare and organize the data that help us generate significant analyzes.<br><br>\n",
    "\n",
    "### The general outline of this notebook is as follows:\n",
    "   1. [Preparation of data](#section_1) \n",
    "   2. [Examine yearly trend lines](#section_2)\n",
    "   3. [Examine accumulated exports by destination](#section_3)\n",
    "   4. [Summary and Next Steps](#section_4)\n",
    "\n",
    "#### Main work tools:<br>\n",
    "|Package|                           Version|\n",
    "|:---------------------------------|--------:|\n",
    "|matplotlib                        | 3.6.2|\n",
    "|numpy                             | 1.23.5|\n",
    "|notebook                          | 6.5.2|\n",
    "|pandas                            | 1.5.3|\n",
    "|python                            | 3.10.8|\n",
    "|scikit-learn                      | 1.2.0|\n",
    "|scipy                             | 1.10.1|\n",
    "|seaborn                           | 0.12.2|\n",
    "|statsmodels                       | 0.13.5|"
   ]
  },
  {
   "cell_type": "markdown",
   "id": "c4e22062",
   "metadata": {},
   "source": [
    "### Import necessary libraries/User defined functions"
   ]
  },
  {
   "cell_type": "code",
   "execution_count": 1,
   "id": "e1b75055",
   "metadata": {},
   "outputs": [],
   "source": [
    "import sys\n",
    "import os\n",
    "import pandas as pd\n",
    "import numpy as np\n",
    "import seaborn as sns\n",
    "import matplotlib.pyplot as plt\n",
    "from matplotlib.dates import DateFormatter\n",
    "import statsmodels.api as sm\n",
    "from IPython.core.interactiveshell import InteractiveShell\n",
    "sys.path.append(os.getcwd() + '/helperfunctions')\n",
    "import raiavlfunctions\n",
    "InteractiveShell.ast_node_interactivity = \"all\"\n",
    "pd.options.display.float_format = '{:,.2f}'.format"
   ]
  },
  {
   "cell_type": "markdown",
   "id": "9f3e709e",
   "metadata": {},
   "source": [
    "<a id='section_1'></a>\n",
    "## 1. Preparation of data\n",
    "### 1.1 Load RAIAVL data"
   ]
  },
  {
   "cell_type": "code",
   "execution_count": 2,
   "id": "d5f0effe",
   "metadata": {
    "scrolled": false
   },
   "outputs": [
    {
     "name": "stdout",
     "output_type": "stream",
     "text": [
      "\n",
      "**************Concatenate files of vehicles exported*****************\n",
      "raiavl_exportacion_mensual_tr_cifra_2005.csv has 1586 rows.\n",
      "raiavl_exportacion_mensual_tr_cifra_2006.csv has 1704 rows.\n",
      "raiavl_exportacion_mensual_tr_cifra_2007.csv has 2291 rows.\n",
      "raiavl_exportacion_mensual_tr_cifra_2008.csv has 3106 rows.\n",
      "raiavl_exportacion_mensual_tr_cifra_2009.csv has 3885 rows.\n",
      "raiavl_exportacion_mensual_tr_cifra_2010.csv has 4254 rows.\n",
      "raiavl_exportacion_mensual_tr_cifra_2011.csv has 4439 rows.\n",
      "raiavl_exportacion_mensual_tr_cifra_2012.csv has 5340 rows.\n",
      "raiavl_exportacion_mensual_tr_cifra_2013.csv has 5384 rows.\n",
      "raiavl_exportacion_mensual_tr_cifra_2014.csv has 5787 rows.\n",
      "raiavl_exportacion_mensual_tr_cifra_2015.csv has 6636 rows.\n",
      "raiavl_exportacion_mensual_tr_cifra_2016.csv has 6016 rows.\n",
      "raiavl_exportacion_mensual_tr_cifra_2017.csv has 7173 rows.\n",
      "raiavl_exportacion_mensual_tr_cifra_2018.csv has 9358 rows.\n",
      "raiavl_exportacion_mensual_tr_cifra_2019.csv has 14449 rows.\n",
      "raiavl_exportacion_mensual_tr_cifra_2020.csv has 15017 rows.\n",
      "raiavl_exportacion_mensual_tr_cifra_2021.csv has 15941 rows.\n",
      "raiavl_exportacion_mensual_tr_cifra_2022.csv has 14614 rows.\n",
      "raiavl_exportacion_mensual_tr_cifra_2023.csv has 5088 rows.\n"
     ]
    },
    {
     "data": {
      "text/plain": [
       "'countryid'"
      ]
     },
     "execution_count": 2,
     "metadata": {},
     "output_type": "execute_result"
    },
    {
     "name": "stdout",
     "output_type": "stream",
     "text": [
      "\n",
      "**************Concatenate files of vehicles productioned*****************\n",
      "raiavl_produccion_mensual_tr_cifra_2005.csv has 577 rows.\n",
      "raiavl_produccion_mensual_tr_cifra_2006.csv has 631 rows.\n",
      "raiavl_produccion_mensual_tr_cifra_2007.csv has 685 rows.\n",
      "raiavl_produccion_mensual_tr_cifra_2008.csv has 735 rows.\n",
      "raiavl_produccion_mensual_tr_cifra_2009.csv has 680 rows.\n",
      "raiavl_produccion_mensual_tr_cifra_2010.csv has 693 rows.\n",
      "raiavl_produccion_mensual_tr_cifra_2011.csv has 702 rows.\n",
      "raiavl_produccion_mensual_tr_cifra_2012.csv has 640 rows.\n",
      "raiavl_produccion_mensual_tr_cifra_2013.csv has 620 rows.\n",
      "raiavl_produccion_mensual_tr_cifra_2014.csv has 646 rows.\n",
      "raiavl_produccion_mensual_tr_cifra_2015.csv has 669 rows.\n",
      "raiavl_produccion_mensual_tr_cifra_2016.csv has 686 rows.\n",
      "raiavl_produccion_mensual_tr_cifra_2017.csv has 705 rows.\n",
      "raiavl_produccion_mensual_tr_cifra_2018.csv has 841 rows.\n",
      "raiavl_produccion_mensual_tr_cifra_2019.csv has 995 rows.\n",
      "raiavl_produccion_mensual_tr_cifra_2020.csv has 956 rows.\n",
      "raiavl_produccion_mensual_tr_cifra_2021.csv has 938 rows.\n",
      "raiavl_produccion_mensual_tr_cifra_2022.csv has 1013 rows.\n",
      "raiavl_produccion_mensual_tr_cifra_2023.csv has 345 rows.\n"
     ]
    },
    {
     "data": {
      "text/plain": [
       "'veh_produced'"
      ]
     },
     "execution_count": 2,
     "metadata": {},
     "output_type": "execute_result"
    },
    {
     "name": "stdout",
     "output_type": "stream",
     "text": [
      "\n",
      "**************Concatenate files of vehicles sales*****************\n",
      "raiavl_venta_mensual_tr_cifra_2005.csv has 3889 rows.\n",
      "raiavl_venta_mensual_tr_cifra_2006.csv has 4054 rows.\n",
      "raiavl_venta_mensual_tr_cifra_2007.csv has 4623 rows.\n",
      "raiavl_venta_mensual_tr_cifra_2008.csv has 4923 rows.\n",
      "raiavl_venta_mensual_tr_cifra_2009.csv has 4875 rows.\n",
      "raiavl_venta_mensual_tr_cifra_2010.csv has 4616 rows.\n",
      "raiavl_venta_mensual_tr_cifra_2011.csv has 4367 rows.\n",
      "raiavl_venta_mensual_tr_cifra_2012.csv has 3970 rows.\n",
      "raiavl_venta_mensual_tr_cifra_2013.csv has 4104 rows.\n",
      "raiavl_venta_mensual_tr_cifra_2014.csv has 4131 rows.\n",
      "raiavl_venta_mensual_tr_cifra_2015.csv has 4121 rows.\n",
      "raiavl_venta_mensual_tr_cifra_2016.csv has 4134 rows.\n",
      "raiavl_venta_mensual_tr_cifra_2017.csv has 4176 rows.\n",
      "raiavl_venta_mensual_tr_cifra_2018.csv has 4605 rows.\n",
      "raiavl_venta_mensual_tr_cifra_2019.csv has 5502 rows.\n",
      "raiavl_venta_mensual_tr_cifra_2020.csv has 5535 rows.\n",
      "raiavl_venta_mensual_tr_cifra_2021.csv has 5388 rows.\n",
      "raiavl_venta_mensual_tr_cifra_2022.csv has 5384 rows.\n",
      "raiavl_venta_mensual_tr_cifra_2023.csv has 1839 rows.\n",
      "\n",
      "**************Concatenate files of Hybrid vehicles sales*****************\n",
      "raiavl_hibrido_mensual_tr_cifra_2016.csv has 371 rows.\n",
      "raiavl_hibrido_mensual_tr_cifra_2017.csv has 384 rows.\n",
      "raiavl_hibrido_mensual_tr_cifra_2018.csv has 396 rows.\n",
      "raiavl_hibrido_mensual_tr_cifra_2019.csv has 396 rows.\n",
      "raiavl_hibrido_mensual_tr_cifra_2020.csv has 396 rows.\n",
      "raiavl_hibrido_mensual_tr_cifra_2021.csv has 396 rows.\n",
      "raiavl_hibrido_mensual_tr_cifra_2022.csv has 396 rows.\n",
      "raiavl_hibrido_mensual_tr_cifra_2023.csv has 65 rows.\n"
     ]
    }
   ],
   "source": [
    "#exports Catalogs\n",
    "raiavl_exports_month = pd.read_csv('data/raiavl_mensual_exportacion_csv/catalogos/tc_mes.csv',\n",
    "                                   encoding='utf-8')\n",
    "raiavl_exports_month.rename(columns={'ID_MES':'monthid', 'DESCRIPCION_MES':'month'}, inplace=True)\n",
    "raiavl_exports_month['monthe'] =['Jan', 'Feb', 'Mar', 'Apr', 'May', 'Jun', 'Jul', 'Aug',\n",
    "                  'Sep', 'Oct', 'Nov', 'Dec']\n",
    "raiavl_exports_dcountries = pd.read_csv(\n",
    "    'data/raiavl_mensual_exportacion_csv/catalogos/tc_pais_destino.csv',\n",
    "    encoding='utf-8')\n",
    "raiavl_exports_dcountries.rename(columns={'ID_PAIS_DESTINO':'countryid',\n",
    "                                          'DESC_PAIS_DESTINO':'country'}, inplace=True)\n",
    "#Exports data\n",
    "column_names = {\n",
    "    'PROD_EST':'project_name',\n",
    "    'COBERTURA':'coverge',\n",
    "    'ANIO':'year',\n",
    "    'ID_MES':'monthid',\n",
    "    'MARCA':'brand',\n",
    "    'MODELO':'model',\n",
    "    'TIPO':'type',\n",
    "    'SEGMENTO':'segment',\n",
    "    'ID_PAIS_DESTINO':'countryid',\n",
    "    'UNI_VEH':'veh_exports',\n",
    "}\n",
    "path = os.getcwd() + '/data/raiavl_mensual_exportacion_csv/conjunto_de_datos'\n",
    "print('\\n**************Concatenate files of vehicles exported*****************')\n",
    "raiavl_exports = raiavlfunctions.concat_files_csv(path)\n",
    "raiavl_exports.rename(columns=column_names, inplace=True)\n",
    "\n",
    "#Production data\n",
    "column_names.pop('ID_PAIS_DESTINO')\n",
    "column_names.update({'UNI_VEH':'veh_produced'})\n",
    "path = os.getcwd() + '/data/raiavl_mensual_produccion_csv/conjunto_de_datos'\n",
    "print('\\n**************Concatenate files of vehicles productioned*****************')\n",
    "raiavl_production = raiavlfunctions.concat_files_csv(path)\n",
    "raiavl_production.rename(columns=column_names, inplace=True)\n",
    "\n",
    "#Sales catalogs\n",
    "raiavl_sales_importcountry = pd.read_csv(\n",
    "    'data/raiavl_mensual_venta_csv/catalogos/tc_pais_origen.csv', encoding='utf-8')\n",
    "raiavl_sales_importcountry.rename(columns={'ID_PAIS_ORIGEN':'origin_countryid',\n",
    "                                           'DESC_PAIS_ORIGEN':'origin_country'}, inplace=True)\n",
    "#Sales data\n",
    "column_names.pop('UNI_VEH')\n",
    "column_names['ORIGEN'] = 'origin'\n",
    "column_names['ID_PAIS_ORIGEN'] = 'origin_countryid'\n",
    "column_names['UNI_VEH'] = 'veh_sales'\n",
    "path = os.getcwd() + '/data/raiavl_mensual_venta_csv/conjunto_de_datos'\n",
    "print('\\n**************Concatenate files of vehicles sales*****************')\n",
    "raiavl_sales = raiavlfunctions.concat_files_csv(path)\n",
    "raiavl_sales.rename(columns=column_names, inplace=True)\n",
    "\n",
    "#hybrid catalog\n",
    "raiavl_hybridsales_dstates = pd.read_csv(\n",
    "    'data/raiavl_mensual_hibrido_csv/catalogos/tc_entidad_federativa.csv', encoding='utf-8')\n",
    "raiavl_hybridsales_dstates.rename(columns={'ID_ENTIDAD':'stateid',\n",
    "                                           'DESC_ENTIDAD':'statedesc',}, inplace=True)\n",
    "#Hybrid vehicle data\n",
    "column_names = {\n",
    "    'PROD_EST':'project_name',\n",
    "    'COBERTURA':'coverage',\n",
    "    'ANIO':'year',\n",
    "    'ID_MES':'monthid',\n",
    "    'ID_ENTIDAD':'stateid',\n",
    "    'VEH_ELECTR':'veh_electric',\n",
    "    'VEH_HIBRIDAS_PLUGIN':'veh_hybrid_plugin',\n",
    "    'VEH_HIBRIDAS':'veh_hybrid',\n",
    "}\n",
    "path = os.getcwd() + '/data/raiavl_mensual_hibrido_csv/conjunto_de_datos'\n",
    "print('\\n**************Concatenate files of Hybrid vehicles sales*****************')\n",
    "raiavl_hybridsales = raiavlfunctions.concat_files_csv(path)\n",
    "raiavl_hybridsales.rename(columns=column_names, inplace=True)\n",
    "raiavl_hybridsales['veh_salesh'] = raiavl_hybridsales.veh_electric + raiavl_hybridsales.veh_hybrid +\\\n",
    "    raiavl_hybridsales.veh_hybrid_plugin"
   ]
  },
  {
   "cell_type": "markdown",
   "id": "6a5f8dfb",
   "metadata": {},
   "source": [
    "### 1.2 Merge the raiavl DataFrame with some descriptive variables from the catalogs"
   ]
  },
  {
   "cell_type": "markdown",
   "id": "35f351fb",
   "metadata": {},
   "source": [
    "### 1.2.1 Merge the exports and the country catalog"
   ]
  },
  {
   "cell_type": "code",
   "execution_count": 4,
   "id": "020e09dd",
   "metadata": {},
   "outputs": [
    {
     "name": "stdout",
     "output_type": "stream",
     "text": [
      "inright       Y\n",
      "inleft         \n",
      "N            90\n",
      "Y        132068\n",
      "        countryid inleft inright\n",
      "132068          1      N       Y\n",
      "132069          2      N       Y\n",
      "132070          3      N       Y\n",
      "132071          5      N       Y\n",
      "132072          9      N       Y\n",
      "132073         15      N       Y\n",
      "132074         26      N       Y\n",
      "132075         29      N       Y\n",
      "132076         30      N       Y\n",
      "132077         36      N       Y\n",
      "132078         38      N       Y\n",
      "132079         41      N       Y\n",
      "132080         45      N       Y\n",
      "132081         47      N       Y\n",
      "132082         56      N       Y\n",
      "132083         61      N       Y\n",
      "132084         65      N       Y\n",
      "132085         71      N       Y\n",
      "132086         75      N       Y\n",
      "132087         81      N       Y\n"
     ]
    }
   ],
   "source": [
    "#The merge of exports and the country catalog shows that 132,068 values\n",
    "#are in both DataFrame, ninety are in the raiavl_export_dcountries and not in\n",
    "#the raiavl_exports file:\n",
    "raiavlfunctions.check_merge(raiavl_exports.copy(), raiavl_exports_dcountries.copy(),\n",
    "               'countryid', 'countryid')"
   ]
  },
  {
   "cell_type": "code",
   "execution_count": 5,
   "id": "68ac70e0",
   "metadata": {
    "scrolled": false
   },
   "outputs": [
    {
     "data": {
      "text/html": [
       "<div>\n",
       "<style scoped>\n",
       "    .dataframe tbody tr th:only-of-type {\n",
       "        vertical-align: middle;\n",
       "    }\n",
       "\n",
       "    .dataframe tbody tr th {\n",
       "        vertical-align: top;\n",
       "    }\n",
       "\n",
       "    .dataframe thead th {\n",
       "        text-align: right;\n",
       "    }\n",
       "</style>\n",
       "<table border=\"1\" class=\"dataframe\">\n",
       "  <thead>\n",
       "    <tr style=\"text-align: right;\">\n",
       "      <th></th>\n",
       "      <th>project_name</th>\n",
       "      <th>coverge</th>\n",
       "      <th>year</th>\n",
       "      <th>monthid</th>\n",
       "      <th>brand</th>\n",
       "      <th>model</th>\n",
       "      <th>type</th>\n",
       "      <th>segment</th>\n",
       "      <th>countryid</th>\n",
       "      <th>veh_exports</th>\n",
       "      <th>country</th>\n",
       "    </tr>\n",
       "  </thead>\n",
       "  <tbody>\n",
       "    <tr>\n",
       "      <th>0</th>\n",
       "      <td>Registro Administrativo de la Industria Automo...</td>\n",
       "      <td>Nacional</td>\n",
       "      <td>2005</td>\n",
       "      <td>1</td>\n",
       "      <td>Chrysler</td>\n",
       "      <td>PT Cruiser</td>\n",
       "      <td>Automóviles</td>\n",
       "      <td>Compactos</td>\n",
       "      <td>4</td>\n",
       "      <td>2186</td>\n",
       "      <td>Alemania</td>\n",
       "    </tr>\n",
       "    <tr>\n",
       "      <th>1</th>\n",
       "      <td>Registro Administrativo de la Industria Automo...</td>\n",
       "      <td>Nacional</td>\n",
       "      <td>2005</td>\n",
       "      <td>1</td>\n",
       "      <td>Volkswagen</td>\n",
       "      <td>Beetle</td>\n",
       "      <td>Automóviles</td>\n",
       "      <td>Compactos</td>\n",
       "      <td>4</td>\n",
       "      <td>1184</td>\n",
       "      <td>Alemania</td>\n",
       "    </tr>\n",
       "    <tr>\n",
       "      <th>2</th>\n",
       "      <td>Registro Administrativo de la Industria Automo...</td>\n",
       "      <td>Nacional</td>\n",
       "      <td>2005</td>\n",
       "      <td>1</td>\n",
       "      <td>Volkswagen</td>\n",
       "      <td>Beetle Cabrio</td>\n",
       "      <td>Automóviles</td>\n",
       "      <td>Compactos</td>\n",
       "      <td>4</td>\n",
       "      <td>1634</td>\n",
       "      <td>Alemania</td>\n",
       "    </tr>\n",
       "  </tbody>\n",
       "</table>\n",
       "</div>"
      ],
      "text/plain": [
       "                                        project_name   coverge  year  monthid  \\\n",
       "0  Registro Administrativo de la Industria Automo...  Nacional  2005        1   \n",
       "1  Registro Administrativo de la Industria Automo...  Nacional  2005        1   \n",
       "2  Registro Administrativo de la Industria Automo...  Nacional  2005        1   \n",
       "\n",
       "        brand          model         type    segment  countryid  veh_exports  \\\n",
       "0    Chrysler     PT Cruiser  Automóviles  Compactos          4         2186   \n",
       "1  Volkswagen         Beetle  Automóviles  Compactos          4         1184   \n",
       "2  Volkswagen  Beetle Cabrio  Automóviles  Compactos          4         1634   \n",
       "\n",
       "    country  \n",
       "0  Alemania  \n",
       "1  Alemania  \n",
       "2  Alemania  "
      ]
     },
     "execution_count": 5,
     "metadata": {},
     "output_type": "execute_result"
    }
   ],
   "source": [
    "#Merge the exports and the country catalog\n",
    "raiavl_exports = pd.merge(raiavl_exports, raiavl_exports_dcountries,\n",
    "                          left_on=['countryid'], right_on=['countryid'])\n",
    "raiavl_exports.head(3)"
   ]
  },
  {
   "cell_type": "markdown",
   "id": "f599b7d1",
   "metadata": {},
   "source": [
    "### 1.2.2 Merge the hybrid sales and states catalog"
   ]
  },
  {
   "cell_type": "code",
   "execution_count": 6,
   "id": "b3c42cd9",
   "metadata": {},
   "outputs": [
    {
     "name": "stdout",
     "output_type": "stream",
     "text": [
      "inright     Y\n",
      "inleft       \n",
      "Y        2800\n",
      "Empty DataFrame\n",
      "Columns: [stateid, inleft, inright]\n",
      "Index: []\n"
     ]
    }
   ],
   "source": [
    "# The merge of hybrid sales and the states catalog shows that 2,800 values are\n",
    "#in both DataFrames.\n",
    "raiavlfunctions.check_merge(raiavl_hybridsales.copy(), raiavl_hybridsales_dstates.copy(),\n",
    "               'stateid', 'stateid')"
   ]
  },
  {
   "cell_type": "code",
   "execution_count": 7,
   "id": "45960541",
   "metadata": {},
   "outputs": [
    {
     "data": {
      "text/html": [
       "<div>\n",
       "<style scoped>\n",
       "    .dataframe tbody tr th:only-of-type {\n",
       "        vertical-align: middle;\n",
       "    }\n",
       "\n",
       "    .dataframe tbody tr th {\n",
       "        vertical-align: top;\n",
       "    }\n",
       "\n",
       "    .dataframe thead th {\n",
       "        text-align: right;\n",
       "    }\n",
       "</style>\n",
       "<table border=\"1\" class=\"dataframe\">\n",
       "  <thead>\n",
       "    <tr style=\"text-align: right;\">\n",
       "      <th></th>\n",
       "      <th>project_name</th>\n",
       "      <th>coverage</th>\n",
       "      <th>year</th>\n",
       "      <th>monthid</th>\n",
       "      <th>stateid</th>\n",
       "      <th>veh_electric</th>\n",
       "      <th>veh_hybrid_plugin</th>\n",
       "      <th>veh_hybrid</th>\n",
       "      <th>veh_salesh</th>\n",
       "      <th>statedesc</th>\n",
       "    </tr>\n",
       "  </thead>\n",
       "  <tbody>\n",
       "    <tr>\n",
       "      <th>0</th>\n",
       "      <td>Registro Administrativo de la Industria Automo...</td>\n",
       "      <td>Nacional</td>\n",
       "      <td>2016</td>\n",
       "      <td>1</td>\n",
       "      <td>1</td>\n",
       "      <td>0</td>\n",
       "      <td>0</td>\n",
       "      <td>2</td>\n",
       "      <td>2</td>\n",
       "      <td>Aguascalientes</td>\n",
       "    </tr>\n",
       "    <tr>\n",
       "      <th>1</th>\n",
       "      <td>Registro Administrativo de la Industria Automo...</td>\n",
       "      <td>Nacional</td>\n",
       "      <td>2016</td>\n",
       "      <td>2</td>\n",
       "      <td>1</td>\n",
       "      <td>0</td>\n",
       "      <td>0</td>\n",
       "      <td>2</td>\n",
       "      <td>2</td>\n",
       "      <td>Aguascalientes</td>\n",
       "    </tr>\n",
       "    <tr>\n",
       "      <th>2</th>\n",
       "      <td>Registro Administrativo de la Industria Automo...</td>\n",
       "      <td>Nacional</td>\n",
       "      <td>2016</td>\n",
       "      <td>3</td>\n",
       "      <td>1</td>\n",
       "      <td>1</td>\n",
       "      <td>0</td>\n",
       "      <td>10</td>\n",
       "      <td>11</td>\n",
       "      <td>Aguascalientes</td>\n",
       "    </tr>\n",
       "  </tbody>\n",
       "</table>\n",
       "</div>"
      ],
      "text/plain": [
       "                                        project_name  coverage  year  monthid  \\\n",
       "0  Registro Administrativo de la Industria Automo...  Nacional  2016        1   \n",
       "1  Registro Administrativo de la Industria Automo...  Nacional  2016        2   \n",
       "2  Registro Administrativo de la Industria Automo...  Nacional  2016        3   \n",
       "\n",
       "   stateid  veh_electric  veh_hybrid_plugin  veh_hybrid  veh_salesh  \\\n",
       "0        1             0                  0           2           2   \n",
       "1        1             0                  0           2           2   \n",
       "2        1             1                  0          10          11   \n",
       "\n",
       "        statedesc  \n",
       "0  Aguascalientes  \n",
       "1  Aguascalientes  \n",
       "2  Aguascalientes  "
      ]
     },
     "execution_count": 7,
     "metadata": {},
     "output_type": "execute_result"
    }
   ],
   "source": [
    "#Merge the hybrid sales and states catalog\n",
    "raiavl_hybridsales = pd.merge(raiavl_hybridsales, raiavl_hybridsales_dstates,\n",
    "                             left_on=['stateid'], right_on=['stateid'])\n",
    "raiavl_hybridsales.head(3)"
   ]
  },
  {
   "cell_type": "markdown",
   "id": "81a3b9bd",
   "metadata": {},
   "source": [
    "### 1.2.3 Merge the sales and the import country catalog"
   ]
  },
  {
   "cell_type": "code",
   "execution_count": 8,
   "id": "69b554d3",
   "metadata": {},
   "outputs": [
    {
     "name": "stdout",
     "output_type": "stream",
     "text": [
      "inright      Y\n",
      "inleft        \n",
      "N          220\n",
      "Y        84236\n",
      "       origin_countryid inleft inright\n",
      "84236                 2      N       Y\n",
      "84237                 3      N       Y\n",
      "84238                 5      N       Y\n",
      "84239                 6      N       Y\n",
      "84240                 7      N       Y\n",
      "84241                 8      N       Y\n",
      "84242                 9      N       Y\n",
      "84243                10      N       Y\n",
      "84244                11      N       Y\n",
      "84245                13      N       Y\n",
      "84246                14      N       Y\n",
      "84247                15      N       Y\n",
      "84248                16      N       Y\n",
      "84249                18      N       Y\n",
      "84250                19      N       Y\n",
      "84251                20      N       Y\n",
      "84252                21      N       Y\n",
      "84253                22      N       Y\n",
      "84254                24      N       Y\n",
      "84255                25      N       Y\n"
     ]
    }
   ],
   "source": [
    "#The merge of sales and import country catalog shows that 84,236 values\n",
    "#are in both DataFrames, 220 values are in raiavl_sales_importcountry\n",
    "#and not in raiavl_sales.\n",
    "raiavlfunctions.check_merge(raiavl_sales.copy(), raiavl_sales_importcountry.copy(),\n",
    "               'origin_countryid', 'origin_countryid')"
   ]
  },
  {
   "cell_type": "code",
   "execution_count": 9,
   "id": "cf8e4c51",
   "metadata": {},
   "outputs": [
    {
     "data": {
      "text/html": [
       "<div>\n",
       "<style scoped>\n",
       "    .dataframe tbody tr th:only-of-type {\n",
       "        vertical-align: middle;\n",
       "    }\n",
       "\n",
       "    .dataframe tbody tr th {\n",
       "        vertical-align: top;\n",
       "    }\n",
       "\n",
       "    .dataframe thead th {\n",
       "        text-align: right;\n",
       "    }\n",
       "</style>\n",
       "<table border=\"1\" class=\"dataframe\">\n",
       "  <thead>\n",
       "    <tr style=\"text-align: right;\">\n",
       "      <th></th>\n",
       "      <th>project_name</th>\n",
       "      <th>coverge</th>\n",
       "      <th>year</th>\n",
       "      <th>monthid</th>\n",
       "      <th>brand</th>\n",
       "      <th>model</th>\n",
       "      <th>type</th>\n",
       "      <th>segment</th>\n",
       "      <th>origin</th>\n",
       "      <th>origin_countryid</th>\n",
       "      <th>veh_sales</th>\n",
       "      <th>origin_country</th>\n",
       "    </tr>\n",
       "  </thead>\n",
       "  <tbody>\n",
       "    <tr>\n",
       "      <th>0</th>\n",
       "      <td>Registro Administrativo de la Industria Automo...</td>\n",
       "      <td>Nacional</td>\n",
       "      <td>2005</td>\n",
       "      <td>1</td>\n",
       "      <td>Acura</td>\n",
       "      <td>Mdx</td>\n",
       "      <td>Camiones ligeros</td>\n",
       "      <td>SUV's</td>\n",
       "      <td>IMPORTADO</td>\n",
       "      <td>40</td>\n",
       "      <td>18</td>\n",
       "      <td>Canadá</td>\n",
       "    </tr>\n",
       "    <tr>\n",
       "      <th>1</th>\n",
       "      <td>Registro Administrativo de la Industria Automo...</td>\n",
       "      <td>Nacional</td>\n",
       "      <td>2005</td>\n",
       "      <td>1</td>\n",
       "      <td>Chrysler</td>\n",
       "      <td>CHRYSLER 300C</td>\n",
       "      <td>Automóviles</td>\n",
       "      <td>De Lujo</td>\n",
       "      <td>IMPORTADO</td>\n",
       "      <td>40</td>\n",
       "      <td>98</td>\n",
       "      <td>Canadá</td>\n",
       "    </tr>\n",
       "    <tr>\n",
       "      <th>2</th>\n",
       "      <td>Registro Administrativo de la Industria Automo...</td>\n",
       "      <td>Nacional</td>\n",
       "      <td>2005</td>\n",
       "      <td>1</td>\n",
       "      <td>Chrysler</td>\n",
       "      <td>Pacifica</td>\n",
       "      <td>Camiones ligeros</td>\n",
       "      <td>SUV's</td>\n",
       "      <td>IMPORTADO</td>\n",
       "      <td>40</td>\n",
       "      <td>55</td>\n",
       "      <td>Canadá</td>\n",
       "    </tr>\n",
       "  </tbody>\n",
       "</table>\n",
       "</div>"
      ],
      "text/plain": [
       "                                        project_name   coverge  year  monthid  \\\n",
       "0  Registro Administrativo de la Industria Automo...  Nacional  2005        1   \n",
       "1  Registro Administrativo de la Industria Automo...  Nacional  2005        1   \n",
       "2  Registro Administrativo de la Industria Automo...  Nacional  2005        1   \n",
       "\n",
       "      brand          model              type  segment     origin  \\\n",
       "0     Acura            Mdx  Camiones ligeros    SUV's  IMPORTADO   \n",
       "1  Chrysler  CHRYSLER 300C       Automóviles  De Lujo  IMPORTADO   \n",
       "2  Chrysler       Pacifica  Camiones ligeros    SUV's  IMPORTADO   \n",
       "\n",
       "   origin_countryid  veh_sales origin_country  \n",
       "0                40         18         Canadá  \n",
       "1                40         98         Canadá  \n",
       "2                40         55         Canadá  "
      ]
     },
     "execution_count": 9,
     "metadata": {},
     "output_type": "execute_result"
    }
   ],
   "source": [
    "# Merge the sales and import country catalog\n",
    "raiavl_sales = pd.merge(raiavl_sales, raiavl_sales_importcountry,\n",
    "                        left_on='origin_countryid', right_on='origin_countryid')\n",
    "raiavl_sales.head(3)"
   ]
  },
  {
   "cell_type": "markdown",
   "id": "e20cd148",
   "metadata": {
    "heading_collapsed": true
   },
   "source": [
    "### 1.3 Save memory\n",
    "Change the columns with object dtype to category for save memory."
   ]
  },
  {
   "cell_type": "code",
   "execution_count": 10,
   "id": "6e27f1ed",
   "metadata": {
    "hidden": true,
    "scrolled": false
   },
   "outputs": [
    {
     "name": "stdout",
     "output_type": "stream",
     "text": [
      "<class 'pandas.core.frame.DataFrame'>\n",
      "Int64Index: 132068 entries, 0 to 132067\n",
      "Data columns (total 11 columns):\n",
      " #   Column        Non-Null Count   Dtype   \n",
      "---  ------        --------------   -----   \n",
      " 0   project_name  132068 non-null  category\n",
      " 1   coverge       132068 non-null  category\n",
      " 2   year          132068 non-null  int64   \n",
      " 3   monthid       132068 non-null  int64   \n",
      " 4   brand         132068 non-null  category\n",
      " 5   model         132068 non-null  category\n",
      " 6   type          132068 non-null  category\n",
      " 7   segment       132068 non-null  category\n",
      " 8   countryid     132068 non-null  int64   \n",
      " 9   veh_exports   132068 non-null  int64   \n",
      " 10  country       132068 non-null  category\n",
      "dtypes: category(7), int64(4)\n",
      "memory usage: 6.1 MB\n"
     ]
    }
   ],
   "source": [
    "raiavl_exports[raiavl_exports.columns[[0,1,4,5,6,7,10]]] = raiavl_exports.\\\n",
    "select_dtypes(['object']).apply(lambda x: x.astype('category'))\n",
    "raiavl_exports.info()"
   ]
  },
  {
   "cell_type": "code",
   "execution_count": 11,
   "id": "fab91120",
   "metadata": {
    "hidden": true
   },
   "outputs": [
    {
     "name": "stdout",
     "output_type": "stream",
     "text": [
      "<class 'pandas.core.frame.DataFrame'>\n",
      "Int64Index: 2800 entries, 0 to 2799\n",
      "Data columns (total 10 columns):\n",
      " #   Column             Non-Null Count  Dtype   \n",
      "---  ------             --------------  -----   \n",
      " 0   project_name       2800 non-null   category\n",
      " 1   coverage           2800 non-null   category\n",
      " 2   year               2800 non-null   int64   \n",
      " 3   monthid            2800 non-null   int64   \n",
      " 4   stateid            2800 non-null   int64   \n",
      " 5   veh_electric       2800 non-null   int64   \n",
      " 6   veh_hybrid_plugin  2800 non-null   int64   \n",
      " 7   veh_hybrid         2800 non-null   int64   \n",
      " 8   veh_salesh         2800 non-null   int64   \n",
      " 9   statedesc          2800 non-null   category\n",
      "dtypes: category(3), int64(7)\n",
      "memory usage: 184.7 KB\n"
     ]
    }
   ],
   "source": [
    "raiavl_hybridsales[raiavl_hybridsales.columns[[0,1,9]]] = raiavl_hybridsales.\\\n",
    "select_dtypes(['object']).apply(lambda x: x.astype('category'))\n",
    "raiavl_hybridsales.info()"
   ]
  },
  {
   "cell_type": "code",
   "execution_count": 12,
   "id": "12b59b93",
   "metadata": {
    "hidden": true
   },
   "outputs": [
    {
     "name": "stdout",
     "output_type": "stream",
     "text": [
      "<class 'pandas.core.frame.DataFrame'>\n",
      "Int64Index: 13757 entries, 0 to 344\n",
      "Data columns (total 9 columns):\n",
      " #   Column        Non-Null Count  Dtype   \n",
      "---  ------        --------------  -----   \n",
      " 0   project_name  13757 non-null  category\n",
      " 1   coverge       13757 non-null  category\n",
      " 2   year          13757 non-null  int64   \n",
      " 3   monthid       13757 non-null  int64   \n",
      " 4   brand         13757 non-null  category\n",
      " 5   model         13757 non-null  category\n",
      " 6   type          13757 non-null  category\n",
      " 7   segment       13757 non-null  category\n",
      " 8   veh_produced  13757 non-null  int64   \n",
      "dtypes: category(6), int64(3)\n",
      "memory usage: 535.1 KB\n"
     ]
    }
   ],
   "source": [
    "raiavl_production[raiavl_production.columns[[0,1,4,5,6,7]]] = raiavl_production.\\\n",
    "select_dtypes(['object']).apply(lambda x: x.astype('category'))\n",
    "raiavl_production.info()"
   ]
  },
  {
   "cell_type": "code",
   "execution_count": 13,
   "id": "6db9a1f6",
   "metadata": {
    "hidden": true
   },
   "outputs": [
    {
     "name": "stdout",
     "output_type": "stream",
     "text": [
      "<class 'pandas.core.frame.DataFrame'>\n",
      "Int64Index: 84236 entries, 0 to 84235\n",
      "Data columns (total 12 columns):\n",
      " #   Column            Non-Null Count  Dtype   \n",
      "---  ------            --------------  -----   \n",
      " 0   project_name      84236 non-null  category\n",
      " 1   coverge           84236 non-null  category\n",
      " 2   year              84236 non-null  int64   \n",
      " 3   monthid           84236 non-null  int64   \n",
      " 4   brand             84236 non-null  category\n",
      " 5   model             84236 non-null  category\n",
      " 6   type              84236 non-null  category\n",
      " 7   segment           84236 non-null  category\n",
      " 8   origin            84236 non-null  category\n",
      " 9   origin_countryid  84236 non-null  int64   \n",
      " 10  veh_sales         84236 non-null  int64   \n",
      " 11  origin_country    84236 non-null  category\n",
      "dtypes: category(8), int64(4)\n",
      "memory usage: 4.0 MB\n"
     ]
    }
   ],
   "source": [
    "raiavl_sales[raiavl_sales.columns[[0,1,4,5,6,7,8,11]]] = raiavl_sales.\\\n",
    "select_dtypes(['object']).apply(lambda x: x.astype('category'))\n",
    "raiavl_sales.info()"
   ]
  },
  {
   "cell_type": "markdown",
   "id": "7e2d6dcf",
   "metadata": {},
   "source": [
    "### 1.4 Generate frequencies and percentages for all columns of category type."
   ]
  },
  {
   "cell_type": "code",
   "execution_count": 14,
   "id": "03b33b35",
   "metadata": {},
   "outputs": [],
   "source": [
    "raiavlfunctions.make_frequencies(raiavl_production, 'views/frequencies_production.txt')\n",
    "raiavlfunctions.make_frequencies(raiavl_exports, 'views/frequencies_exports.txt')\n",
    "raiavlfunctions.make_frequencies(raiavl_sales, 'views/frequencies_sales.txt')\n",
    "raiavlfunctions.make_frequencies(raiavl_hybridsales, 'views/frequencies_hybridsales.txt')"
   ]
  },
  {
   "cell_type": "markdown",
   "id": "f94d8ce2",
   "metadata": {},
   "source": [
    "### 1.5. First look to data"
   ]
  },
  {
   "cell_type": "code",
   "execution_count": 15,
   "id": "49b9cb32",
   "metadata": {},
   "outputs": [
    {
     "name": "stdout",
     "output_type": "stream",
     "text": [
      "+++++++++++++Production data+++++++++++++\n"
     ]
    },
    {
     "data": {
      "text/plain": [
       "(13757, 9)"
      ]
     },
     "execution_count": 15,
     "metadata": {},
     "output_type": "execute_result"
    },
    {
     "data": {
      "text/html": [
       "<div>\n",
       "<style scoped>\n",
       "    .dataframe tbody tr th:only-of-type {\n",
       "        vertical-align: middle;\n",
       "    }\n",
       "\n",
       "    .dataframe tbody tr th {\n",
       "        vertical-align: top;\n",
       "    }\n",
       "\n",
       "    .dataframe thead th {\n",
       "        text-align: right;\n",
       "    }\n",
       "</style>\n",
       "<table border=\"1\" class=\"dataframe\">\n",
       "  <thead>\n",
       "    <tr style=\"text-align: right;\">\n",
       "      <th></th>\n",
       "      <th>486</th>\n",
       "      <th>639</th>\n",
       "    </tr>\n",
       "  </thead>\n",
       "  <tbody>\n",
       "    <tr>\n",
       "      <th>project_name</th>\n",
       "      <td>Registro administrativo de la industria automo...</td>\n",
       "      <td>Registro administrativo de la industria automo...</td>\n",
       "    </tr>\n",
       "    <tr>\n",
       "      <th>coverge</th>\n",
       "      <td>Nacional</td>\n",
       "      <td>Nacional</td>\n",
       "    </tr>\n",
       "    <tr>\n",
       "      <th>year</th>\n",
       "      <td>2022</td>\n",
       "      <td>2019</td>\n",
       "    </tr>\n",
       "    <tr>\n",
       "      <th>monthid</th>\n",
       "      <td>6</td>\n",
       "      <td>8</td>\n",
       "    </tr>\n",
       "    <tr>\n",
       "      <th>brand</th>\n",
       "      <td>Mazda</td>\n",
       "      <td>Nissan</td>\n",
       "    </tr>\n",
       "    <tr>\n",
       "      <th>model</th>\n",
       "      <td>Mazda 3 Sedán-</td>\n",
       "      <td>Note</td>\n",
       "    </tr>\n",
       "    <tr>\n",
       "      <th>type</th>\n",
       "      <td>Automóviles</td>\n",
       "      <td>Automóviles</td>\n",
       "    </tr>\n",
       "    <tr>\n",
       "      <th>segment</th>\n",
       "      <td>Compactos</td>\n",
       "      <td>Compactos</td>\n",
       "    </tr>\n",
       "    <tr>\n",
       "      <th>veh_produced</th>\n",
       "      <td>1207</td>\n",
       "      <td>0</td>\n",
       "    </tr>\n",
       "  </tbody>\n",
       "</table>\n",
       "</div>"
      ],
      "text/plain": [
       "                                                            486  \\\n",
       "project_name  Registro administrativo de la industria automo...   \n",
       "coverge                                                Nacional   \n",
       "year                                                       2022   \n",
       "monthid                                                       6   \n",
       "brand                                                     Mazda   \n",
       "model                                            Mazda 3 Sedán-   \n",
       "type                                                Automóviles   \n",
       "segment                                               Compactos   \n",
       "veh_produced                                               1207   \n",
       "\n",
       "                                                            639  \n",
       "project_name  Registro administrativo de la industria automo...  \n",
       "coverge                                                Nacional  \n",
       "year                                                       2019  \n",
       "monthid                                                       8  \n",
       "brand                                                    Nissan  \n",
       "model                                                      Note  \n",
       "type                                                Automóviles  \n",
       "segment                                               Compactos  \n",
       "veh_produced                                                  0  "
      ]
     },
     "execution_count": 15,
     "metadata": {},
     "output_type": "execute_result"
    },
    {
     "data": {
      "text/plain": [
       "0.00     -625.00\n",
       "0.10        0.00\n",
       "0.20        0.00\n",
       "0.30       66.00\n",
       "0.40      403.00\n",
       "0.50    1,304.00\n",
       "0.60    2,593.60\n",
       "0.70    4,370.40\n",
       "0.80    6,786.00\n",
       "0.90   11,702.80\n",
       "1.00   34,464.00\n",
       "Name: veh_produced, dtype: float64"
      ]
     },
     "execution_count": 15,
     "metadata": {},
     "output_type": "execute_result"
    },
    {
     "data": {
      "text/html": [
       "<div>\n",
       "<style scoped>\n",
       "    .dataframe tbody tr th:only-of-type {\n",
       "        vertical-align: middle;\n",
       "    }\n",
       "\n",
       "    .dataframe tbody tr th {\n",
       "        vertical-align: top;\n",
       "    }\n",
       "\n",
       "    .dataframe thead th {\n",
       "        text-align: right;\n",
       "    }\n",
       "</style>\n",
       "<table border=\"1\" class=\"dataframe\">\n",
       "  <thead>\n",
       "    <tr style=\"text-align: right;\">\n",
       "      <th></th>\n",
       "      <th>year</th>\n",
       "      <th>monthid</th>\n",
       "      <th>veh_produced</th>\n",
       "    </tr>\n",
       "  </thead>\n",
       "  <tbody>\n",
       "    <tr>\n",
       "      <th>count</th>\n",
       "      <td>13,757.00</td>\n",
       "      <td>13,757.00</td>\n",
       "      <td>13,757.00</td>\n",
       "    </tr>\n",
       "    <tr>\n",
       "      <th>mean</th>\n",
       "      <td>2,014.46</td>\n",
       "      <td>6.49</td>\n",
       "      <td>3,794.10</td>\n",
       "    </tr>\n",
       "    <tr>\n",
       "      <th>std</th>\n",
       "      <td>5.41</td>\n",
       "      <td>3.48</td>\n",
       "      <td>5,472.21</td>\n",
       "    </tr>\n",
       "    <tr>\n",
       "      <th>min</th>\n",
       "      <td>2,005.00</td>\n",
       "      <td>1.00</td>\n",
       "      <td>-625.00</td>\n",
       "    </tr>\n",
       "    <tr>\n",
       "      <th>25%</th>\n",
       "      <td>2,010.00</td>\n",
       "      <td>3.00</td>\n",
       "      <td>9.00</td>\n",
       "    </tr>\n",
       "    <tr>\n",
       "      <th>50%</th>\n",
       "      <td>2,015.00</td>\n",
       "      <td>7.00</td>\n",
       "      <td>1,304.00</td>\n",
       "    </tr>\n",
       "    <tr>\n",
       "      <th>75%</th>\n",
       "      <td>2,019.00</td>\n",
       "      <td>10.00</td>\n",
       "      <td>5,461.00</td>\n",
       "    </tr>\n",
       "    <tr>\n",
       "      <th>max</th>\n",
       "      <td>2,023.00</td>\n",
       "      <td>12.00</td>\n",
       "      <td>34,464.00</td>\n",
       "    </tr>\n",
       "  </tbody>\n",
       "</table>\n",
       "</div>"
      ],
      "text/plain": [
       "           year   monthid  veh_produced\n",
       "count 13,757.00 13,757.00     13,757.00\n",
       "mean   2,014.46      6.49      3,794.10\n",
       "std        5.41      3.48      5,472.21\n",
       "min    2,005.00      1.00       -625.00\n",
       "25%    2,010.00      3.00          9.00\n",
       "50%    2,015.00      7.00      1,304.00\n",
       "75%    2,019.00     10.00      5,461.00\n",
       "max    2,023.00     12.00     34,464.00"
      ]
     },
     "execution_count": 15,
     "metadata": {},
     "output_type": "execute_result"
    }
   ],
   "source": [
    "#Production data.\n",
    "print('+++++++++++++Production data+++++++++++++')\n",
    "raiavl_production.shape\n",
    "raiavl_production.sample(2, random_state=1).T\n",
    "raiavl_production['veh_produced'].quantile(np.arange(0.0,1.1,0.1))\n",
    "raiavl_production.describe()"
   ]
  },
  {
   "cell_type": "code",
   "execution_count": 16,
   "id": "a57ba578",
   "metadata": {},
   "outputs": [
    {
     "name": "stdout",
     "output_type": "stream",
     "text": [
      "+++++++++++++Exports data+++++++++++++\n"
     ]
    },
    {
     "data": {
      "text/plain": [
       "(132068, 11)"
      ]
     },
     "execution_count": 16,
     "metadata": {},
     "output_type": "execute_result"
    },
    {
     "data": {
      "text/html": [
       "<div>\n",
       "<style scoped>\n",
       "    .dataframe tbody tr th:only-of-type {\n",
       "        vertical-align: middle;\n",
       "    }\n",
       "\n",
       "    .dataframe tbody tr th {\n",
       "        vertical-align: top;\n",
       "    }\n",
       "\n",
       "    .dataframe thead th {\n",
       "        text-align: right;\n",
       "    }\n",
       "</style>\n",
       "<table border=\"1\" class=\"dataframe\">\n",
       "  <thead>\n",
       "    <tr style=\"text-align: right;\">\n",
       "      <th></th>\n",
       "      <th>130617</th>\n",
       "      <th>70777</th>\n",
       "    </tr>\n",
       "  </thead>\n",
       "  <tbody>\n",
       "    <tr>\n",
       "      <th>project_name</th>\n",
       "      <td>Registro Administrativo de la Industria Automo...</td>\n",
       "      <td>Registro Administrativo de la Industria Automo...</td>\n",
       "    </tr>\n",
       "    <tr>\n",
       "      <th>coverge</th>\n",
       "      <td>Nacional</td>\n",
       "      <td>Nacional</td>\n",
       "    </tr>\n",
       "    <tr>\n",
       "      <th>year</th>\n",
       "      <td>2018</td>\n",
       "      <td>2020</td>\n",
       "    </tr>\n",
       "    <tr>\n",
       "      <th>monthid</th>\n",
       "      <td>11</td>\n",
       "      <td>12</td>\n",
       "    </tr>\n",
       "    <tr>\n",
       "      <th>brand</th>\n",
       "      <td>Chrysler</td>\n",
       "      <td>Volkswagen</td>\n",
       "    </tr>\n",
       "    <tr>\n",
       "      <th>model</th>\n",
       "      <td>Jeep Compass-</td>\n",
       "      <td>Tiguan-</td>\n",
       "    </tr>\n",
       "    <tr>\n",
       "      <th>type</th>\n",
       "      <td>Camiones ligeros</td>\n",
       "      <td>Camiones ligeros</td>\n",
       "    </tr>\n",
       "    <tr>\n",
       "      <th>segment</th>\n",
       "      <td>SUV's</td>\n",
       "      <td>SUV's</td>\n",
       "    </tr>\n",
       "    <tr>\n",
       "      <th>countryid</th>\n",
       "      <td>225</td>\n",
       "      <td>175</td>\n",
       "    </tr>\n",
       "    <tr>\n",
       "      <th>veh_exports</th>\n",
       "      <td>0</td>\n",
       "      <td>4</td>\n",
       "    </tr>\n",
       "    <tr>\n",
       "      <th>country</th>\n",
       "      <td>Túnez</td>\n",
       "      <td>Perú</td>\n",
       "    </tr>\n",
       "  </tbody>\n",
       "</table>\n",
       "</div>"
      ],
      "text/plain": [
       "                                                         130617  \\\n",
       "project_name  Registro Administrativo de la Industria Automo...   \n",
       "coverge                                                Nacional   \n",
       "year                                                       2018   \n",
       "monthid                                                      11   \n",
       "brand                                                  Chrysler   \n",
       "model                                             Jeep Compass-   \n",
       "type                                           Camiones ligeros   \n",
       "segment                                                   SUV's   \n",
       "countryid                                                   225   \n",
       "veh_exports                                                   0   \n",
       "country                                                   Túnez   \n",
       "\n",
       "                                                         70777   \n",
       "project_name  Registro Administrativo de la Industria Automo...  \n",
       "coverge                                                Nacional  \n",
       "year                                                       2020  \n",
       "monthid                                                      12  \n",
       "brand                                                Volkswagen  \n",
       "model                                                   Tiguan-  \n",
       "type                                           Camiones ligeros  \n",
       "segment                                                   SUV's  \n",
       "countryid                                                   175  \n",
       "veh_exports                                                   4  \n",
       "country                                                    Perú  "
      ]
     },
     "execution_count": 16,
     "metadata": {},
     "output_type": "execute_result"
    },
    {
     "data": {
      "text/plain": [
       "0.00   -2,041.00\n",
       "0.10        0.00\n",
       "0.20        0.00\n",
       "0.30        0.00\n",
       "0.40        0.00\n",
       "0.50        0.00\n",
       "0.60        2.00\n",
       "0.70       11.00\n",
       "0.80       51.00\n",
       "0.90      313.00\n",
       "1.00   39,281.00\n",
       "Name: veh_exports, dtype: float64"
      ]
     },
     "execution_count": 16,
     "metadata": {},
     "output_type": "execute_result"
    },
    {
     "data": {
      "text/html": [
       "<div>\n",
       "<style scoped>\n",
       "    .dataframe tbody tr th:only-of-type {\n",
       "        vertical-align: middle;\n",
       "    }\n",
       "\n",
       "    .dataframe tbody tr th {\n",
       "        vertical-align: top;\n",
       "    }\n",
       "\n",
       "    .dataframe thead th {\n",
       "        text-align: right;\n",
       "    }\n",
       "</style>\n",
       "<table border=\"1\" class=\"dataframe\">\n",
       "  <thead>\n",
       "    <tr style=\"text-align: right;\">\n",
       "      <th></th>\n",
       "      <th>year</th>\n",
       "      <th>monthid</th>\n",
       "      <th>countryid</th>\n",
       "      <th>veh_exports</th>\n",
       "    </tr>\n",
       "  </thead>\n",
       "  <tbody>\n",
       "    <tr>\n",
       "      <th>count</th>\n",
       "      <td>132,068.00</td>\n",
       "      <td>132,068.00</td>\n",
       "      <td>132,068.00</td>\n",
       "      <td>132,068.00</td>\n",
       "    </tr>\n",
       "    <tr>\n",
       "      <th>mean</th>\n",
       "      <td>2,016.92</td>\n",
       "      <td>6.50</td>\n",
       "      <td>122.39</td>\n",
       "      <td>329.50</td>\n",
       "    </tr>\n",
       "    <tr>\n",
       "      <th>std</th>\n",
       "      <td>4.64</td>\n",
       "      <td>3.50</td>\n",
       "      <td>168.57</td>\n",
       "      <td>1,648.71</td>\n",
       "    </tr>\n",
       "    <tr>\n",
       "      <th>min</th>\n",
       "      <td>2,005.00</td>\n",
       "      <td>1.00</td>\n",
       "      <td>4.00</td>\n",
       "      <td>-2,041.00</td>\n",
       "    </tr>\n",
       "    <tr>\n",
       "      <th>25%</th>\n",
       "      <td>2,014.00</td>\n",
       "      <td>3.00</td>\n",
       "      <td>42.00</td>\n",
       "      <td>0.00</td>\n",
       "    </tr>\n",
       "    <tr>\n",
       "      <th>50%</th>\n",
       "      <td>2,018.00</td>\n",
       "      <td>7.00</td>\n",
       "      <td>66.00</td>\n",
       "      <td>0.00</td>\n",
       "    </tr>\n",
       "    <tr>\n",
       "      <th>75%</th>\n",
       "      <td>2,021.00</td>\n",
       "      <td>10.00</td>\n",
       "      <td>172.00</td>\n",
       "      <td>24.00</td>\n",
       "    </tr>\n",
       "    <tr>\n",
       "      <th>max</th>\n",
       "      <td>2,023.00</td>\n",
       "      <td>12.00</td>\n",
       "      <td>999.00</td>\n",
       "      <td>39,281.00</td>\n",
       "    </tr>\n",
       "  </tbody>\n",
       "</table>\n",
       "</div>"
      ],
      "text/plain": [
       "            year    monthid  countryid  veh_exports\n",
       "count 132,068.00 132,068.00 132,068.00   132,068.00\n",
       "mean    2,016.92       6.50     122.39       329.50\n",
       "std         4.64       3.50     168.57     1,648.71\n",
       "min     2,005.00       1.00       4.00    -2,041.00\n",
       "25%     2,014.00       3.00      42.00         0.00\n",
       "50%     2,018.00       7.00      66.00         0.00\n",
       "75%     2,021.00      10.00     172.00        24.00\n",
       "max     2,023.00      12.00     999.00    39,281.00"
      ]
     },
     "execution_count": 16,
     "metadata": {},
     "output_type": "execute_result"
    }
   ],
   "source": [
    "#Exports data.\n",
    "print('+++++++++++++Exports data+++++++++++++')\n",
    "raiavl_exports.shape\n",
    "raiavl_exports.sample(2, random_state=1).T\n",
    "raiavl_exports['veh_exports'].quantile(np.arange(0.0,1.1,0.1))\n",
    "raiavl_exports.describe()"
   ]
  },
  {
   "cell_type": "code",
   "execution_count": 17,
   "id": "dcdb26f8",
   "metadata": {},
   "outputs": [
    {
     "name": "stdout",
     "output_type": "stream",
     "text": [
      "+++++++++++++Sales data+++++++++++++\n"
     ]
    },
    {
     "data": {
      "text/plain": [
       "(84236, 12)"
      ]
     },
     "execution_count": 17,
     "metadata": {},
     "output_type": "execute_result"
    },
    {
     "data": {
      "text/html": [
       "<div>\n",
       "<style scoped>\n",
       "    .dataframe tbody tr th:only-of-type {\n",
       "        vertical-align: middle;\n",
       "    }\n",
       "\n",
       "    .dataframe tbody tr th {\n",
       "        vertical-align: top;\n",
       "    }\n",
       "\n",
       "    .dataframe thead th {\n",
       "        text-align: right;\n",
       "    }\n",
       "</style>\n",
       "<table border=\"1\" class=\"dataframe\">\n",
       "  <thead>\n",
       "    <tr style=\"text-align: right;\">\n",
       "      <th></th>\n",
       "      <th>67461</th>\n",
       "      <th>14267</th>\n",
       "    </tr>\n",
       "  </thead>\n",
       "  <tbody>\n",
       "    <tr>\n",
       "      <th>project_name</th>\n",
       "      <td>Registro Administrativo de la Industria Automo...</td>\n",
       "      <td>Registro Administrativo de la Industria Automo...</td>\n",
       "    </tr>\n",
       "    <tr>\n",
       "      <th>coverge</th>\n",
       "      <td>Nacional</td>\n",
       "      <td>Nacional</td>\n",
       "    </tr>\n",
       "    <tr>\n",
       "      <th>year</th>\n",
       "      <td>2022</td>\n",
       "      <td>2006</td>\n",
       "    </tr>\n",
       "    <tr>\n",
       "      <th>monthid</th>\n",
       "      <td>8</td>\n",
       "      <td>3</td>\n",
       "    </tr>\n",
       "    <tr>\n",
       "      <th>brand</th>\n",
       "      <td>Peugeot</td>\n",
       "      <td>Chrysler</td>\n",
       "    </tr>\n",
       "    <tr>\n",
       "      <th>model</th>\n",
       "      <td>RIFTER</td>\n",
       "      <td>Quad Cab</td>\n",
       "    </tr>\n",
       "    <tr>\n",
       "      <th>type</th>\n",
       "      <td>Camiones ligeros</td>\n",
       "      <td>Camiones ligeros</td>\n",
       "    </tr>\n",
       "    <tr>\n",
       "      <th>segment</th>\n",
       "      <td>Pick Ups</td>\n",
       "      <td>Pick Ups</td>\n",
       "    </tr>\n",
       "    <tr>\n",
       "      <th>origin</th>\n",
       "      <td>IMPORTADO</td>\n",
       "      <td>IMPORTADO</td>\n",
       "    </tr>\n",
       "    <tr>\n",
       "      <th>origin_countryid</th>\n",
       "      <td>64</td>\n",
       "      <td>66</td>\n",
       "    </tr>\n",
       "    <tr>\n",
       "      <th>veh_sales</th>\n",
       "      <td>258</td>\n",
       "      <td>752</td>\n",
       "    </tr>\n",
       "    <tr>\n",
       "      <th>origin_country</th>\n",
       "      <td>España</td>\n",
       "      <td>Estados Unidos</td>\n",
       "    </tr>\n",
       "  </tbody>\n",
       "</table>\n",
       "</div>"
      ],
      "text/plain": [
       "                                                              67461  \\\n",
       "project_name      Registro Administrativo de la Industria Automo...   \n",
       "coverge                                                    Nacional   \n",
       "year                                                           2022   \n",
       "monthid                                                           8   \n",
       "brand                                                       Peugeot   \n",
       "model                                                        RIFTER   \n",
       "type                                               Camiones ligeros   \n",
       "segment                                                    Pick Ups   \n",
       "origin                                                    IMPORTADO   \n",
       "origin_countryid                                                 64   \n",
       "veh_sales                                                       258   \n",
       "origin_country                                               España   \n",
       "\n",
       "                                                              14267  \n",
       "project_name      Registro Administrativo de la Industria Automo...  \n",
       "coverge                                                    Nacional  \n",
       "year                                                           2006  \n",
       "monthid                                                           3  \n",
       "brand                                                      Chrysler  \n",
       "model                                                      Quad Cab  \n",
       "type                                               Camiones ligeros  \n",
       "segment                                                    Pick Ups  \n",
       "origin                                                    IMPORTADO  \n",
       "origin_countryid                                                 66  \n",
       "veh_sales                                                       752  \n",
       "origin_country                                       Estados Unidos  "
      ]
     },
     "execution_count": 17,
     "metadata": {},
     "output_type": "execute_result"
    },
    {
     "data": {
      "text/plain": [
       "0.00     -791.00\n",
       "0.10        1.00\n",
       "0.20        4.00\n",
       "0.30       11.00\n",
       "0.40       24.00\n",
       "0.50       46.00\n",
       "0.60       82.00\n",
       "0.70      152.00\n",
       "0.80      293.00\n",
       "0.90      623.00\n",
       "1.00   13,161.00\n",
       "Name: veh_sales, dtype: float64"
      ]
     },
     "execution_count": 17,
     "metadata": {},
     "output_type": "execute_result"
    },
    {
     "data": {
      "text/html": [
       "<div>\n",
       "<style scoped>\n",
       "    .dataframe tbody tr th:only-of-type {\n",
       "        vertical-align: middle;\n",
       "    }\n",
       "\n",
       "    .dataframe tbody tr th {\n",
       "        vertical-align: top;\n",
       "    }\n",
       "\n",
       "    .dataframe thead th {\n",
       "        text-align: right;\n",
       "    }\n",
       "</style>\n",
       "<table border=\"1\" class=\"dataframe\">\n",
       "  <thead>\n",
       "    <tr style=\"text-align: right;\">\n",
       "      <th></th>\n",
       "      <th>year</th>\n",
       "      <th>monthid</th>\n",
       "      <th>origin_countryid</th>\n",
       "      <th>veh_sales</th>\n",
       "    </tr>\n",
       "  </thead>\n",
       "  <tbody>\n",
       "    <tr>\n",
       "      <th>count</th>\n",
       "      <td>84,236.00</td>\n",
       "      <td>84,236.00</td>\n",
       "      <td>84,236.00</td>\n",
       "      <td>84,236.00</td>\n",
       "    </tr>\n",
       "    <tr>\n",
       "      <th>mean</th>\n",
       "      <td>2,014.05</td>\n",
       "      <td>6.44</td>\n",
       "      <td>63.35</td>\n",
       "      <td>246.71</td>\n",
       "    </tr>\n",
       "    <tr>\n",
       "      <th>std</th>\n",
       "      <td>5.40</td>\n",
       "      <td>3.47</td>\n",
       "      <td>65.13</td>\n",
       "      <td>623.44</td>\n",
       "    </tr>\n",
       "    <tr>\n",
       "      <th>min</th>\n",
       "      <td>2,005.00</td>\n",
       "      <td>1.00</td>\n",
       "      <td>1.00</td>\n",
       "      <td>-791.00</td>\n",
       "    </tr>\n",
       "    <tr>\n",
       "      <th>25%</th>\n",
       "      <td>2,009.00</td>\n",
       "      <td>3.00</td>\n",
       "      <td>4.00</td>\n",
       "      <td>7.00</td>\n",
       "    </tr>\n",
       "    <tr>\n",
       "      <th>50%</th>\n",
       "      <td>2,014.00</td>\n",
       "      <td>6.00</td>\n",
       "      <td>66.00</td>\n",
       "      <td>46.00</td>\n",
       "    </tr>\n",
       "    <tr>\n",
       "      <th>75%</th>\n",
       "      <td>2,019.00</td>\n",
       "      <td>9.00</td>\n",
       "      <td>74.00</td>\n",
       "      <td>211.00</td>\n",
       "    </tr>\n",
       "    <tr>\n",
       "      <th>max</th>\n",
       "      <td>2,023.00</td>\n",
       "      <td>12.00</td>\n",
       "      <td>999.00</td>\n",
       "      <td>13,161.00</td>\n",
       "    </tr>\n",
       "  </tbody>\n",
       "</table>\n",
       "</div>"
      ],
      "text/plain": [
       "           year   monthid  origin_countryid  veh_sales\n",
       "count 84,236.00 84,236.00         84,236.00  84,236.00\n",
       "mean   2,014.05      6.44             63.35     246.71\n",
       "std        5.40      3.47             65.13     623.44\n",
       "min    2,005.00      1.00              1.00    -791.00\n",
       "25%    2,009.00      3.00              4.00       7.00\n",
       "50%    2,014.00      6.00             66.00      46.00\n",
       "75%    2,019.00      9.00             74.00     211.00\n",
       "max    2,023.00     12.00            999.00  13,161.00"
      ]
     },
     "execution_count": 17,
     "metadata": {},
     "output_type": "execute_result"
    }
   ],
   "source": [
    "#Sales data\n",
    "print('+++++++++++++Sales data+++++++++++++')\n",
    "raiavl_sales.shape\n",
    "raiavl_sales.sample(2, random_state=1).T\n",
    "raiavl_sales['veh_sales'].quantile(np.arange(0.0,1.1,0.1))\n",
    "raiavl_sales.describe()"
   ]
  },
  {
   "cell_type": "code",
   "execution_count": 18,
   "id": "9f9bd0b2",
   "metadata": {},
   "outputs": [
    {
     "name": "stdout",
     "output_type": "stream",
     "text": [
      "+++++++++++++Hybrid sales data+++++++++++++\n"
     ]
    },
    {
     "data": {
      "text/plain": [
       "(2800, 10)"
      ]
     },
     "execution_count": 18,
     "metadata": {},
     "output_type": "execute_result"
    },
    {
     "data": {
      "text/html": [
       "<div>\n",
       "<style scoped>\n",
       "    .dataframe tbody tr th:only-of-type {\n",
       "        vertical-align: middle;\n",
       "    }\n",
       "\n",
       "    .dataframe tbody tr th {\n",
       "        vertical-align: top;\n",
       "    }\n",
       "\n",
       "    .dataframe thead th {\n",
       "        text-align: right;\n",
       "    }\n",
       "</style>\n",
       "<table border=\"1\" class=\"dataframe\">\n",
       "  <thead>\n",
       "    <tr style=\"text-align: right;\">\n",
       "      <th></th>\n",
       "      <th>1687</th>\n",
       "      <th>1070</th>\n",
       "    </tr>\n",
       "  </thead>\n",
       "  <tbody>\n",
       "    <tr>\n",
       "      <th>project_name</th>\n",
       "      <td>Registro Administrativo de la Industria Automo...</td>\n",
       "      <td>Registro Administrativo de la Industria Automo...</td>\n",
       "    </tr>\n",
       "    <tr>\n",
       "      <th>coverage</th>\n",
       "      <td>Nacional</td>\n",
       "      <td>Nacional</td>\n",
       "    </tr>\n",
       "    <tr>\n",
       "      <th>year</th>\n",
       "      <td>2021</td>\n",
       "      <td>2019</td>\n",
       "    </tr>\n",
       "    <tr>\n",
       "      <th>monthid</th>\n",
       "      <td>6</td>\n",
       "      <td>9</td>\n",
       "    </tr>\n",
       "    <tr>\n",
       "      <th>stateid</th>\n",
       "      <td>20</td>\n",
       "      <td>13</td>\n",
       "    </tr>\n",
       "    <tr>\n",
       "      <th>veh_electric</th>\n",
       "      <td>1</td>\n",
       "      <td>0</td>\n",
       "    </tr>\n",
       "    <tr>\n",
       "      <th>veh_hybrid_plugin</th>\n",
       "      <td>0</td>\n",
       "      <td>1</td>\n",
       "    </tr>\n",
       "    <tr>\n",
       "      <th>veh_hybrid</th>\n",
       "      <td>35</td>\n",
       "      <td>20</td>\n",
       "    </tr>\n",
       "    <tr>\n",
       "      <th>veh_salesh</th>\n",
       "      <td>36</td>\n",
       "      <td>21</td>\n",
       "    </tr>\n",
       "    <tr>\n",
       "      <th>statedesc</th>\n",
       "      <td>Oaxaca</td>\n",
       "      <td>Hidalgo</td>\n",
       "    </tr>\n",
       "  </tbody>\n",
       "</table>\n",
       "</div>"
      ],
      "text/plain": [
       "                                                                1687  \\\n",
       "project_name       Registro Administrativo de la Industria Automo...   \n",
       "coverage                                                    Nacional   \n",
       "year                                                            2021   \n",
       "monthid                                                            6   \n",
       "stateid                                                           20   \n",
       "veh_electric                                                       1   \n",
       "veh_hybrid_plugin                                                  0   \n",
       "veh_hybrid                                                        35   \n",
       "veh_salesh                                                        36   \n",
       "statedesc                                                     Oaxaca   \n",
       "\n",
       "                                                                1070  \n",
       "project_name       Registro Administrativo de la Industria Automo...  \n",
       "coverage                                                    Nacional  \n",
       "year                                                            2019  \n",
       "monthid                                                            9  \n",
       "stateid                                                           13  \n",
       "veh_electric                                                       0  \n",
       "veh_hybrid_plugin                                                  1  \n",
       "veh_hybrid                                                        20  \n",
       "veh_salesh                                                        21  \n",
       "statedesc                                                    Hidalgo  "
      ]
     },
     "execution_count": 18,
     "metadata": {},
     "output_type": "execute_result"
    },
    {
     "data": {
      "text/html": [
       "<div>\n",
       "<style scoped>\n",
       "    .dataframe tbody tr th:only-of-type {\n",
       "        vertical-align: middle;\n",
       "    }\n",
       "\n",
       "    .dataframe tbody tr th {\n",
       "        vertical-align: top;\n",
       "    }\n",
       "\n",
       "    .dataframe thead th {\n",
       "        text-align: right;\n",
       "    }\n",
       "</style>\n",
       "<table border=\"1\" class=\"dataframe\">\n",
       "  <thead>\n",
       "    <tr style=\"text-align: right;\">\n",
       "      <th></th>\n",
       "      <th>veh_electric</th>\n",
       "      <th>veh_hybrid</th>\n",
       "      <th>veh_hybrid_plugin</th>\n",
       "    </tr>\n",
       "  </thead>\n",
       "  <tbody>\n",
       "    <tr>\n",
       "      <th>0.00</th>\n",
       "      <td>0.00</td>\n",
       "      <td>0.00</td>\n",
       "      <td>0.00</td>\n",
       "    </tr>\n",
       "    <tr>\n",
       "      <th>0.10</th>\n",
       "      <td>0.00</td>\n",
       "      <td>2.00</td>\n",
       "      <td>0.00</td>\n",
       "    </tr>\n",
       "    <tr>\n",
       "      <th>0.20</th>\n",
       "      <td>0.00</td>\n",
       "      <td>5.00</td>\n",
       "      <td>0.00</td>\n",
       "    </tr>\n",
       "    <tr>\n",
       "      <th>0.30</th>\n",
       "      <td>0.00</td>\n",
       "      <td>8.00</td>\n",
       "      <td>0.00</td>\n",
       "    </tr>\n",
       "    <tr>\n",
       "      <th>0.40</th>\n",
       "      <td>0.00</td>\n",
       "      <td>13.00</td>\n",
       "      <td>0.00</td>\n",
       "    </tr>\n",
       "    <tr>\n",
       "      <th>0.50</th>\n",
       "      <td>0.00</td>\n",
       "      <td>19.00</td>\n",
       "      <td>0.00</td>\n",
       "    </tr>\n",
       "    <tr>\n",
       "      <th>0.60</th>\n",
       "      <td>0.00</td>\n",
       "      <td>29.00</td>\n",
       "      <td>1.00</td>\n",
       "    </tr>\n",
       "    <tr>\n",
       "      <th>0.70</th>\n",
       "      <td>1.00</td>\n",
       "      <td>42.00</td>\n",
       "      <td>3.00</td>\n",
       "    </tr>\n",
       "    <tr>\n",
       "      <th>0.80</th>\n",
       "      <td>2.00</td>\n",
       "      <td>68.00</td>\n",
       "      <td>6.00</td>\n",
       "    </tr>\n",
       "    <tr>\n",
       "      <th>0.90</th>\n",
       "      <td>6.00</td>\n",
       "      <td>130.00</td>\n",
       "      <td>12.00</td>\n",
       "    </tr>\n",
       "    <tr>\n",
       "      <th>1.00</th>\n",
       "      <td>401.00</td>\n",
       "      <td>1,177.00</td>\n",
       "      <td>155.00</td>\n",
       "    </tr>\n",
       "  </tbody>\n",
       "</table>\n",
       "</div>"
      ],
      "text/plain": [
       "      veh_electric  veh_hybrid  veh_hybrid_plugin\n",
       "0.00          0.00        0.00               0.00\n",
       "0.10          0.00        2.00               0.00\n",
       "0.20          0.00        5.00               0.00\n",
       "0.30          0.00        8.00               0.00\n",
       "0.40          0.00       13.00               0.00\n",
       "0.50          0.00       19.00               0.00\n",
       "0.60          0.00       29.00               1.00\n",
       "0.70          1.00       42.00               3.00\n",
       "0.80          2.00       68.00               6.00\n",
       "0.90          6.00      130.00              12.00\n",
       "1.00        401.00    1,177.00             155.00"
      ]
     },
     "execution_count": 18,
     "metadata": {},
     "output_type": "execute_result"
    },
    {
     "data": {
      "text/html": [
       "<div>\n",
       "<style scoped>\n",
       "    .dataframe tbody tr th:only-of-type {\n",
       "        vertical-align: middle;\n",
       "    }\n",
       "\n",
       "    .dataframe tbody tr th {\n",
       "        vertical-align: top;\n",
       "    }\n",
       "\n",
       "    .dataframe thead th {\n",
       "        text-align: right;\n",
       "    }\n",
       "</style>\n",
       "<table border=\"1\" class=\"dataframe\">\n",
       "  <thead>\n",
       "    <tr style=\"text-align: right;\">\n",
       "      <th></th>\n",
       "      <th>year</th>\n",
       "      <th>monthid</th>\n",
       "      <th>stateid</th>\n",
       "      <th>veh_electric</th>\n",
       "      <th>veh_hybrid_plugin</th>\n",
       "      <th>veh_hybrid</th>\n",
       "      <th>veh_salesh</th>\n",
       "    </tr>\n",
       "  </thead>\n",
       "  <tbody>\n",
       "    <tr>\n",
       "      <th>count</th>\n",
       "      <td>2,800.00</td>\n",
       "      <td>2,800.00</td>\n",
       "      <td>2,800.00</td>\n",
       "      <td>2,800.00</td>\n",
       "      <td>2,800.00</td>\n",
       "      <td>2,800.00</td>\n",
       "      <td>2,800.00</td>\n",
       "    </tr>\n",
       "    <tr>\n",
       "      <th>mean</th>\n",
       "      <td>2,019.13</td>\n",
       "      <td>6.38</td>\n",
       "      <td>18.38</td>\n",
       "      <td>3.41</td>\n",
       "      <td>5.42</td>\n",
       "      <td>60.32</td>\n",
       "      <td>69.15</td>\n",
       "    </tr>\n",
       "    <tr>\n",
       "      <th>std</th>\n",
       "      <td>2.05</td>\n",
       "      <td>3.50</td>\n",
       "      <td>15.34</td>\n",
       "      <td>16.12</td>\n",
       "      <td>15.42</td>\n",
       "      <td>122.43</td>\n",
       "      <td>145.58</td>\n",
       "    </tr>\n",
       "    <tr>\n",
       "      <th>min</th>\n",
       "      <td>2,016.00</td>\n",
       "      <td>1.00</td>\n",
       "      <td>1.00</td>\n",
       "      <td>0.00</td>\n",
       "      <td>0.00</td>\n",
       "      <td>0.00</td>\n",
       "      <td>0.00</td>\n",
       "    </tr>\n",
       "    <tr>\n",
       "      <th>25%</th>\n",
       "      <td>2,017.00</td>\n",
       "      <td>3.00</td>\n",
       "      <td>9.00</td>\n",
       "      <td>0.00</td>\n",
       "      <td>0.00</td>\n",
       "      <td>6.00</td>\n",
       "      <td>7.00</td>\n",
       "    </tr>\n",
       "    <tr>\n",
       "      <th>50%</th>\n",
       "      <td>2,019.00</td>\n",
       "      <td>6.00</td>\n",
       "      <td>17.00</td>\n",
       "      <td>0.00</td>\n",
       "      <td>0.00</td>\n",
       "      <td>19.00</td>\n",
       "      <td>20.00</td>\n",
       "    </tr>\n",
       "    <tr>\n",
       "      <th>75%</th>\n",
       "      <td>2,021.00</td>\n",
       "      <td>9.00</td>\n",
       "      <td>25.00</td>\n",
       "      <td>1.00</td>\n",
       "      <td>4.00</td>\n",
       "      <td>53.00</td>\n",
       "      <td>60.25</td>\n",
       "    </tr>\n",
       "    <tr>\n",
       "      <th>max</th>\n",
       "      <td>2,023.00</td>\n",
       "      <td>12.00</td>\n",
       "      <td>99.00</td>\n",
       "      <td>401.00</td>\n",
       "      <td>155.00</td>\n",
       "      <td>1,177.00</td>\n",
       "      <td>1,365.00</td>\n",
       "    </tr>\n",
       "  </tbody>\n",
       "</table>\n",
       "</div>"
      ],
      "text/plain": [
       "          year  monthid  stateid  veh_electric  veh_hybrid_plugin  veh_hybrid  \\\n",
       "count 2,800.00 2,800.00 2,800.00      2,800.00           2,800.00    2,800.00   \n",
       "mean  2,019.13     6.38    18.38          3.41               5.42       60.32   \n",
       "std       2.05     3.50    15.34         16.12              15.42      122.43   \n",
       "min   2,016.00     1.00     1.00          0.00               0.00        0.00   \n",
       "25%   2,017.00     3.00     9.00          0.00               0.00        6.00   \n",
       "50%   2,019.00     6.00    17.00          0.00               0.00       19.00   \n",
       "75%   2,021.00     9.00    25.00          1.00               4.00       53.00   \n",
       "max   2,023.00    12.00    99.00        401.00             155.00    1,177.00   \n",
       "\n",
       "       veh_salesh  \n",
       "count    2,800.00  \n",
       "mean        69.15  \n",
       "std        145.58  \n",
       "min          0.00  \n",
       "25%          7.00  \n",
       "50%         20.00  \n",
       "75%         60.25  \n",
       "max      1,365.00  "
      ]
     },
     "execution_count": 18,
     "metadata": {},
     "output_type": "execute_result"
    }
   ],
   "source": [
    "#Hybrid sales data\n",
    "print('+++++++++++++Hybrid sales data+++++++++++++')\n",
    "raiavl_hybridsales.shape\n",
    "raiavl_hybridsales.sample(2, random_state=1).T\n",
    "raiavl_hybridsales[['veh_electric','veh_hybrid','veh_hybrid_plugin']].quantile(np.arange(0.0,1.1,0.1))\n",
    "raiavl_hybridsales.describe()\n"
   ]
  },
  {
   "cell_type": "markdown",
   "id": "234cadbc",
   "metadata": {},
   "source": [
    "### 1.6 Identifyng and cleaning inconsistences in data"
   ]
  },
  {
   "cell_type": "markdown",
   "id": "2f6eaf4f",
   "metadata": {
    "heading_collapsed": true
   },
   "source": [
    "### 1.6.1 Negative values in production, sales, and exports of vehicles."
   ]
  },
  {
   "cell_type": "code",
   "execution_count": 19,
   "id": "51fb2b1a",
   "metadata": {
    "hidden": true,
    "scrolled": true
   },
   "outputs": [
    {
     "data": {
      "text/html": [
       "<div>\n",
       "<style scoped>\n",
       "    .dataframe tbody tr th:only-of-type {\n",
       "        vertical-align: middle;\n",
       "    }\n",
       "\n",
       "    .dataframe tbody tr th {\n",
       "        vertical-align: top;\n",
       "    }\n",
       "\n",
       "    .dataframe thead th {\n",
       "        text-align: right;\n",
       "    }\n",
       "</style>\n",
       "<table border=\"1\" class=\"dataframe\">\n",
       "  <thead>\n",
       "    <tr style=\"text-align: right;\">\n",
       "      <th></th>\n",
       "      <th>year</th>\n",
       "      <th>brand</th>\n",
       "      <th>countryid</th>\n",
       "      <th>veh_exports</th>\n",
       "    </tr>\n",
       "  </thead>\n",
       "  <tbody>\n",
       "    <tr>\n",
       "      <th>185</th>\n",
       "      <td>2007</td>\n",
       "      <td>Volkswagen</td>\n",
       "      <td>4</td>\n",
       "      <td>-1686</td>\n",
       "    </tr>\n",
       "    <tr>\n",
       "      <th>849</th>\n",
       "      <td>2015</td>\n",
       "      <td>Chrysler</td>\n",
       "      <td>4</td>\n",
       "      <td>-21</td>\n",
       "    </tr>\n",
       "    <tr>\n",
       "      <th>1483</th>\n",
       "      <td>2019</td>\n",
       "      <td>Volkswagen</td>\n",
       "      <td>4</td>\n",
       "      <td>-8</td>\n",
       "    </tr>\n",
       "    <tr>\n",
       "      <th>1500</th>\n",
       "      <td>2019</td>\n",
       "      <td>Volkswagen</td>\n",
       "      <td>4</td>\n",
       "      <td>-23</td>\n",
       "    </tr>\n",
       "    <tr>\n",
       "      <th>1540</th>\n",
       "      <td>2019</td>\n",
       "      <td>Volkswagen</td>\n",
       "      <td>4</td>\n",
       "      <td>-2</td>\n",
       "    </tr>\n",
       "    <tr>\n",
       "      <th>...</th>\n",
       "      <td>...</td>\n",
       "      <td>...</td>\n",
       "      <td>...</td>\n",
       "      <td>...</td>\n",
       "    </tr>\n",
       "    <tr>\n",
       "      <th>106613</th>\n",
       "      <td>2015</td>\n",
       "      <td>Chrysler</td>\n",
       "      <td>207</td>\n",
       "      <td>-17</td>\n",
       "    </tr>\n",
       "    <tr>\n",
       "      <th>106983</th>\n",
       "      <td>2013</td>\n",
       "      <td>Chrysler</td>\n",
       "      <td>20</td>\n",
       "      <td>-2</td>\n",
       "    </tr>\n",
       "    <tr>\n",
       "      <th>112377</th>\n",
       "      <td>2019</td>\n",
       "      <td>General Motors</td>\n",
       "      <td>10</td>\n",
       "      <td>-4</td>\n",
       "    </tr>\n",
       "    <tr>\n",
       "      <th>115802</th>\n",
       "      <td>2013</td>\n",
       "      <td>Fiat</td>\n",
       "      <td>48</td>\n",
       "      <td>-1</td>\n",
       "    </tr>\n",
       "    <tr>\n",
       "      <th>117249</th>\n",
       "      <td>2013</td>\n",
       "      <td>Chrysler</td>\n",
       "      <td>124</td>\n",
       "      <td>-2</td>\n",
       "    </tr>\n",
       "  </tbody>\n",
       "</table>\n",
       "<p>123 rows × 4 columns</p>\n",
       "</div>"
      ],
      "text/plain": [
       "        year           brand  countryid  veh_exports\n",
       "185     2007      Volkswagen          4        -1686\n",
       "849     2015        Chrysler          4          -21\n",
       "1483    2019      Volkswagen          4           -8\n",
       "1500    2019      Volkswagen          4          -23\n",
       "1540    2019      Volkswagen          4           -2\n",
       "...      ...             ...        ...          ...\n",
       "106613  2015        Chrysler        207          -17\n",
       "106983  2013        Chrysler         20           -2\n",
       "112377  2019  General Motors         10           -4\n",
       "115802  2013            Fiat         48           -1\n",
       "117249  2013        Chrysler        124           -2\n",
       "\n",
       "[123 rows x 4 columns]"
      ]
     },
     "execution_count": 19,
     "metadata": {},
     "output_type": "execute_result"
    }
   ],
   "source": [
    "raiavl_exports.loc[raiavl_exports.veh_exports<0, ['year','brand','countryid', 'veh_exports']]"
   ]
  },
  {
   "cell_type": "code",
   "execution_count": 20,
   "id": "58389acc",
   "metadata": {
    "hidden": true
   },
   "outputs": [],
   "source": [
    "#Change exports values under zero.\n",
    "negatives_values = raiavl_exports.veh_exports < 0\n",
    "zero_exports = raiavl_exports.veh_exports == 0\n",
    "raiavl_exports.loc[negatives_values, ['veh_exports']] = 0\n",
    "assert (raiavl_exports['veh_exports']==0).sum() == zero_exports.sum() + negatives_values.sum(),\\\n",
    "    'Review update of column veh_exports!'"
   ]
  },
  {
   "cell_type": "code",
   "execution_count": 21,
   "id": "7ad06dbd",
   "metadata": {
    "hidden": true
   },
   "outputs": [
    {
     "data": {
      "text/html": [
       "<div>\n",
       "<style scoped>\n",
       "    .dataframe tbody tr th:only-of-type {\n",
       "        vertical-align: middle;\n",
       "    }\n",
       "\n",
       "    .dataframe tbody tr th {\n",
       "        vertical-align: top;\n",
       "    }\n",
       "\n",
       "    .dataframe thead th {\n",
       "        text-align: right;\n",
       "    }\n",
       "</style>\n",
       "<table border=\"1\" class=\"dataframe\">\n",
       "  <thead>\n",
       "    <tr style=\"text-align: right;\">\n",
       "      <th></th>\n",
       "      <th>year</th>\n",
       "      <th>brand</th>\n",
       "      <th>model</th>\n",
       "      <th>veh_produced</th>\n",
       "    </tr>\n",
       "  </thead>\n",
       "  <tbody>\n",
       "    <tr>\n",
       "      <th>530</th>\n",
       "      <td>2005</td>\n",
       "      <td>Ford Motor</td>\n",
       "      <td>F 250</td>\n",
       "      <td>-625</td>\n",
       "    </tr>\n",
       "    <tr>\n",
       "      <th>173</th>\n",
       "      <td>2006</td>\n",
       "      <td>General Motors</td>\n",
       "      <td>Escalade ESV SUV AWD</td>\n",
       "      <td>-85</td>\n",
       "    </tr>\n",
       "    <tr>\n",
       "      <th>629</th>\n",
       "      <td>2006</td>\n",
       "      <td>Volkswagen</td>\n",
       "      <td>Jetta TDI</td>\n",
       "      <td>-3</td>\n",
       "    </tr>\n",
       "    <tr>\n",
       "      <th>449</th>\n",
       "      <td>2008</td>\n",
       "      <td>General Motors</td>\n",
       "      <td>Suburban SUV-</td>\n",
       "      <td>-5</td>\n",
       "    </tr>\n",
       "    <tr>\n",
       "      <th>652</th>\n",
       "      <td>2008</td>\n",
       "      <td>Nissan</td>\n",
       "      <td>Pickup Largo Diesel</td>\n",
       "      <td>-5</td>\n",
       "    </tr>\n",
       "    <tr>\n",
       "      <th>290</th>\n",
       "      <td>2015</td>\n",
       "      <td>General Motors</td>\n",
       "      <td>Silverado 2500 Cabina Regular-</td>\n",
       "      <td>-4</td>\n",
       "    </tr>\n",
       "    <tr>\n",
       "      <th>623</th>\n",
       "      <td>2015</td>\n",
       "      <td>General Motors</td>\n",
       "      <td>Aveo-</td>\n",
       "      <td>-20</td>\n",
       "    </tr>\n",
       "  </tbody>\n",
       "</table>\n",
       "</div>"
      ],
      "text/plain": [
       "     year           brand                           model  veh_produced\n",
       "530  2005      Ford Motor                           F 250          -625\n",
       "173  2006  General Motors            Escalade ESV SUV AWD           -85\n",
       "629  2006      Volkswagen                       Jetta TDI            -3\n",
       "449  2008  General Motors                   Suburban SUV-            -5\n",
       "652  2008          Nissan             Pickup Largo Diesel            -5\n",
       "290  2015  General Motors  Silverado 2500 Cabina Regular-            -4\n",
       "623  2015  General Motors                           Aveo-           -20"
      ]
     },
     "execution_count": 21,
     "metadata": {},
     "output_type": "execute_result"
    }
   ],
   "source": [
    "raiavl_production.loc[raiavl_production.veh_produced<0, ['year','brand','model','veh_produced']]"
   ]
  },
  {
   "cell_type": "code",
   "execution_count": 22,
   "id": "7b76a270",
   "metadata": {
    "hidden": true
   },
   "outputs": [],
   "source": [
    "#Change production values under zero.\n",
    "negatives_values = raiavl_production.veh_produced < 0\n",
    "zeros = raiavl_production.veh_produced == 0\n",
    "raiavl_production.loc[negatives_values, ['veh_produced']] = 0\n",
    "assert (raiavl_production['veh_produced']==0).sum() == zeros.sum() + negatives_values.sum(),\\\n",
    "    'Review update of column veh_produced'"
   ]
  },
  {
   "cell_type": "code",
   "execution_count": 23,
   "id": "a10258c7",
   "metadata": {
    "hidden": true
   },
   "outputs": [
    {
     "data": {
      "text/html": [
       "<div>\n",
       "<style scoped>\n",
       "    .dataframe tbody tr th:only-of-type {\n",
       "        vertical-align: middle;\n",
       "    }\n",
       "\n",
       "    .dataframe tbody tr th {\n",
       "        vertical-align: top;\n",
       "    }\n",
       "\n",
       "    .dataframe thead th {\n",
       "        text-align: right;\n",
       "    }\n",
       "</style>\n",
       "<table border=\"1\" class=\"dataframe\">\n",
       "  <thead>\n",
       "    <tr style=\"text-align: right;\">\n",
       "      <th></th>\n",
       "      <th>year</th>\n",
       "      <th>brand</th>\n",
       "      <th>model</th>\n",
       "      <th>origin_country</th>\n",
       "      <th>veh_sales</th>\n",
       "    </tr>\n",
       "  </thead>\n",
       "  <tbody>\n",
       "    <tr>\n",
       "      <th>105</th>\n",
       "      <td>2005</td>\n",
       "      <td>Ford Motor</td>\n",
       "      <td>Crown Victoria / Police Interceptor</td>\n",
       "      <td>Canadá</td>\n",
       "      <td>-9</td>\n",
       "    </tr>\n",
       "    <tr>\n",
       "      <th>410</th>\n",
       "      <td>2007</td>\n",
       "      <td>Ford Motor</td>\n",
       "      <td>Freestar</td>\n",
       "      <td>Canadá</td>\n",
       "      <td>-3</td>\n",
       "    </tr>\n",
       "    <tr>\n",
       "      <th>445</th>\n",
       "      <td>2007</td>\n",
       "      <td>Ford Motor</td>\n",
       "      <td>Crown Victoria / Police Interceptor</td>\n",
       "      <td>Canadá</td>\n",
       "      <td>-1</td>\n",
       "    </tr>\n",
       "    <tr>\n",
       "      <th>651</th>\n",
       "      <td>2008</td>\n",
       "      <td>Ford Motor</td>\n",
       "      <td>Freestar</td>\n",
       "      <td>Canadá</td>\n",
       "      <td>-1</td>\n",
       "    </tr>\n",
       "    <tr>\n",
       "      <th>2064</th>\n",
       "      <td>2014</td>\n",
       "      <td>Ford Motor</td>\n",
       "      <td>Crown Victoria / Police Interceptor</td>\n",
       "      <td>Canadá</td>\n",
       "      <td>-1</td>\n",
       "    </tr>\n",
       "    <tr>\n",
       "      <th>...</th>\n",
       "      <td>...</td>\n",
       "      <td>...</td>\n",
       "      <td>...</td>\n",
       "      <td>...</td>\n",
       "      <td>...</td>\n",
       "    </tr>\n",
       "    <tr>\n",
       "      <th>79281</th>\n",
       "      <td>2009</td>\n",
       "      <td>Peugeot</td>\n",
       "      <td>307 Sw</td>\n",
       "      <td>Francia</td>\n",
       "      <td>-1</td>\n",
       "    </tr>\n",
       "    <tr>\n",
       "      <th>79290</th>\n",
       "      <td>2010</td>\n",
       "      <td>Peugeot</td>\n",
       "      <td>206 3p</td>\n",
       "      <td>Francia</td>\n",
       "      <td>-1</td>\n",
       "    </tr>\n",
       "    <tr>\n",
       "      <th>79305</th>\n",
       "      <td>2010</td>\n",
       "      <td>Peugeot</td>\n",
       "      <td>207 Compact 3p</td>\n",
       "      <td>Francia</td>\n",
       "      <td>-114</td>\n",
       "    </tr>\n",
       "    <tr>\n",
       "      <th>79411</th>\n",
       "      <td>2010</td>\n",
       "      <td>Peugeot</td>\n",
       "      <td>Expert Hdi</td>\n",
       "      <td>Francia</td>\n",
       "      <td>-1</td>\n",
       "    </tr>\n",
       "    <tr>\n",
       "      <th>81535</th>\n",
       "      <td>2018</td>\n",
       "      <td>General Motors</td>\n",
       "      <td>Spark</td>\n",
       "      <td>India</td>\n",
       "      <td>-2</td>\n",
       "    </tr>\n",
       "  </tbody>\n",
       "</table>\n",
       "<p>84 rows × 5 columns</p>\n",
       "</div>"
      ],
      "text/plain": [
       "       year           brand                                model  \\\n",
       "105    2005      Ford Motor  Crown Victoria / Police Interceptor   \n",
       "410    2007      Ford Motor                             Freestar   \n",
       "445    2007      Ford Motor  Crown Victoria / Police Interceptor   \n",
       "651    2008      Ford Motor                             Freestar   \n",
       "2064   2014      Ford Motor  Crown Victoria / Police Interceptor   \n",
       "...     ...             ...                                  ...   \n",
       "79281  2009         Peugeot                               307 Sw   \n",
       "79290  2010         Peugeot                               206 3p   \n",
       "79305  2010         Peugeot                       207 Compact 3p   \n",
       "79411  2010         Peugeot                           Expert Hdi   \n",
       "81535  2018  General Motors                                Spark   \n",
       "\n",
       "      origin_country  veh_sales  \n",
       "105           Canadá         -9  \n",
       "410           Canadá         -3  \n",
       "445           Canadá         -1  \n",
       "651           Canadá         -1  \n",
       "2064          Canadá         -1  \n",
       "...              ...        ...  \n",
       "79281        Francia         -1  \n",
       "79290        Francia         -1  \n",
       "79305        Francia       -114  \n",
       "79411        Francia         -1  \n",
       "81535          India         -2  \n",
       "\n",
       "[84 rows x 5 columns]"
      ]
     },
     "execution_count": 23,
     "metadata": {},
     "output_type": "execute_result"
    }
   ],
   "source": [
    "raiavl_sales.loc[raiavl_sales.veh_sales<0, ['year', 'brand', 'model','origin_country', 'veh_sales']]"
   ]
  },
  {
   "cell_type": "code",
   "execution_count": 24,
   "id": "2582a0b7",
   "metadata": {
    "hidden": true
   },
   "outputs": [],
   "source": [
    "#Change sales values under zero.\n",
    "negatives_values = raiavl_sales.veh_sales < 0\n",
    "zeros = raiavl_sales.veh_sales == 0\n",
    "raiavl_sales.loc[raiavl_sales.veh_sales<0, ['veh_sales']] = 0\n",
    "assert(raiavl_sales.veh_sales == 0).sum() == negatives_values.sum() + zeros.sum(),\\\n",
    "    'Review update of column veh_sales'"
   ]
  },
  {
   "cell_type": "code",
   "execution_count": 25,
   "id": "1c824239",
   "metadata": {
    "hidden": true
   },
   "outputs": [],
   "source": [
    "#Hybrid vehicles sold don't have negative values.\n",
    "assert(raiavl_hybridsales.veh_electric < 0).sum() == 0, 'Negative values in the column veh_electric.'\n",
    "assert(raiavl_hybridsales.veh_hybrid < 0).sum() == 0, 'Negative values in the column veh_hybrid.'\n",
    "assert(raiavl_hybridsales.veh_hybrid_plugin < 0).sum() == 0,\\\n",
    "    'Negative values in the column veh_hybrid_plugin.'"
   ]
  },
  {
   "cell_type": "markdown",
   "id": "1ac28429",
   "metadata": {
    "heading_collapsed": true
   },
   "source": [
    "### 1.6.2 Identifying missing values\n",
    "There are no missing values in the DataFrames."
   ]
  },
  {
   "cell_type": "code",
   "execution_count": 26,
   "id": "19347f71",
   "metadata": {
    "hidden": true
   },
   "outputs": [],
   "source": [
    "#Production\n",
    "assert raiavl_production.isnull().sum(axis=0).sum() == 0, 'Missing Values in raiavl_production by rows.'\n",
    "assert raiavl_production.isnull().sum(axis=1).sum() == 0, 'Missing Values in raiavl_production by columns.'\n",
    "#Exports\n",
    "assert raiavl_exports.isnull().sum(axis=0).sum() == 0, 'Missing Values in raiavl_exports by rows.'\n",
    "assert raiavl_exports.isnull().sum(axis=1).sum() == 0, 'Missing Values in raiavl_exports by columns.'\n",
    "#Sales\n",
    "assert raiavl_sales.isnull().sum(axis=0).sum() == 0, 'Missing Values in raiavl_sales by rows.'\n",
    "assert raiavl_sales.isnull().sum(axis=1).sum() == 0, 'Missing Values in raiavl_sales by columns.'\n",
    "#Hybrid sales\n",
    "assert raiavl_hybridsales.isnull().sum(axis=0).sum() == 0, 'Missing Values in raiavl_hybridsales by rows.'\n",
    "assert raiavl_hybridsales.isnull().sum(axis=1).sum() == 0, 'Missing Values in raiavl_hybridsales by columns.'"
   ]
  },
  {
   "cell_type": "markdown",
   "id": "eaf5b16a",
   "metadata": {
    "heading_collapsed": true
   },
   "source": [
    "### 1.6.3 Cleaning the column model white spaces and replace some characters in model column"
   ]
  },
  {
   "cell_type": "code",
   "execution_count": 27,
   "id": "d6cd882b",
   "metadata": {
    "hidden": true
   },
   "outputs": [],
   "source": [
    "raiavl_production['model'] = raiavl_production.model.str.strip().str.lower().str.replace(' ','_').\\\n",
    "    str.replace('[^a-z0-9_]','', regex=True)\n",
    "raiavl_exports['model'] = raiavl_exports.model.str.strip().str.lower().str.replace(' ', '_').\\\n",
    "    str.replace('[^a-z0-9_]','', regex=True)\n",
    "raiavl_sales['model'] = raiavl_sales.model.str.strip().str.lower().str.replace(' ', '_').\\\n",
    "    str.replace('[^a-z0-9_]','', regex=True)"
   ]
  },
  {
   "cell_type": "markdown",
   "id": "b3d095c6",
   "metadata": {
    "heading_collapsed": true
   },
   "source": [
    "### Persisting data"
   ]
  },
  {
   "cell_type": "code",
   "execution_count": 28,
   "id": "792bed14",
   "metadata": {
    "hidden": true
   },
   "outputs": [],
   "source": [
    "raiavl_production.to_excel('views/raiavl_production.xlsx')\n",
    "raiavl_production.to_csv('views/raiavl_production.csv')\n",
    "\n",
    "raiavl_exports.to_excel('views/raiavl_exports.xlsx')\n",
    "raiavl_exports.to_csv('views/raiavl_exports.csv')\n",
    "\n",
    "raiavl_sales.to_excel('views/raiavl_sales.xlsx')\n",
    "raiavl_sales.to_csv('views/raiavl_sales.csv')\n",
    "\n",
    "raiavl_hybridsales.to_excel('views/raiavl_hybridsales.xlsx')\n",
    "raiavl_hybridsales.to_csv('views/raiavl_hybridsales.csv')"
   ]
  },
  {
   "cell_type": "markdown",
   "id": "ffaa2c96",
   "metadata": {
    "heading_collapsed": true
   },
   "source": [
    "### 1.6.4 Identifyng outliers with one variable\n",
    "The outliers identifying in this first review are not necessarily data collection or measurement errors. However, extreme values can have a meaningful impact on our analysis.\n",
    "<br><br>"
   ]
  },
  {
   "cell_type": "markdown",
   "id": "a7550bf7",
   "metadata": {
    "hidden": true
   },
   "source": [
    "#### Change the unit the analysis of the Light Automotive data. We'll grouping by model, and generate a dataframe by type of vehicle(light trucks, cars)"
   ]
  },
  {
   "cell_type": "code",
   "execution_count": 29,
   "id": "c2e6c253",
   "metadata": {
    "hidden": true
   },
   "outputs": [],
   "source": [
    "carsvars = ['type', 'brand', 'model']\n",
    "typevar = ['Camiones ligeros', 'Automóviles']\n",
    "\n",
    "productionbymodel_cl = raiavlfunctions.get_analysisdf(raiavl_production,'veh_produced',carsvars,\n",
    "                                                      typevar[0])\n",
    "productionbymodel_auto = raiavlfunctions.get_analysisdf(raiavl_production,'veh_produced',carsvars,\n",
    "                                                        typevar[1])\n",
    "\n",
    "exportsbymodel_cl = raiavlfunctions.get_analysisdf(raiavl_exports,'veh_exports',carsvars, typevar[0])\n",
    "exportsbymodel_auto = raiavlfunctions.get_analysisdf(raiavl_exports,'veh_exports',carsvars, typevar[1])\n",
    "\n",
    "salesbymodel_cl = raiavlfunctions.get_analysisdf(raiavl_sales, 'veh_sales', carsvars, typevar[0])\n",
    "salesbymodel_auto = raiavlfunctions.get_analysisdf(raiavl_sales, 'veh_sales', carsvars, typevar[1])\n",
    "\n",
    "hybridsalesbystate = raiavl_hybridsales.loc[raiavl_hybridsales.year.between(2005,2023)].\\\n",
    "    groupby(['statedesc'], as_index=False)['veh_salesh'].sum()\n",
    "hybridsalesbystate = hybridsalesbystate.loc[hybridsalesbystate['veh_salesh']>0]"
   ]
  },
  {
   "cell_type": "markdown",
   "id": "e009e609",
   "metadata": {
    "heading_collapsed": true
   },
   "source": [
    "### 1.6.4.1 View the distributions of the data\n",
    "The vehicles data is not quite normally distributed, as the histograms and the skew and kurtosis measures show."
   ]
  },
  {
   "cell_type": "markdown",
   "id": "bed0f774",
   "metadata": {
    "hidden": true
   },
   "source": [
    "#### Show the skewness and kurtosis"
   ]
  },
  {
   "cell_type": "code",
   "execution_count": 30,
   "id": "3f8af9b8",
   "metadata": {
    "hidden": true
   },
   "outputs": [
    {
     "name": "stdout",
     "output_type": "stream",
     "text": [
      "producted light trucks skew:2.34\n",
      "producted light trucks kurtosis:5.82\n",
      "producted cars skew:3.21\n",
      "producted cars kurtosis:11.04\n",
      "\n",
      "exports light trucks skew:2.39\n",
      "exports light trucks kurtosis:6.06\n",
      "exports cars skew:3.45\n",
      "exports cars kurtosis:13.64\n",
      "\n",
      "sales light trucks skew:4.68\n",
      "sales cars kurtosis:29.63\n",
      "sales light trucks skew:7.56\n",
      "sales cars skew:69.61\n",
      "\n",
      "hybrid sales skew:3.76\n",
      "hybrid sales kurtosis:15.76\n"
     ]
    }
   ],
   "source": [
    "print(f\"producted light trucks skew:{'{:,.2f}'.format(productionbymodel_cl.veh_produced.skew())}\",\n",
    "      f\"producted light trucks kurtosis:{'{:,.2f}'.format(productionbymodel_cl.veh_produced.kurtosis())}\",\n",
    "      f\"producted cars skew:{'{:,.2f}'.format(productionbymodel_auto.veh_produced.skew())}\",\n",
    "      f\"producted cars kurtosis:{'{:,.2f}'.format(productionbymodel_auto.veh_produced.kurtosis())}\",\n",
    "      sep='\\n',end='\\n\\n')\n",
    "\n",
    "print(f\"exports light trucks skew:{'{:,.2f}'.format(exportsbymodel_cl.veh_exports.skew())}\",\n",
    "      f\"exports light trucks kurtosis:{'{:,.2f}'.format(exportsbymodel_cl.veh_exports.kurtosis())}\",\n",
    "      f\"exports cars skew:{'{:,.2f}'.format(exportsbymodel_auto.veh_exports.skew())}\",\n",
    "      f\"exports cars kurtosis:{'{:,.2f}'.format(exportsbymodel_auto.veh_exports.kurtosis())}\",\n",
    "      sep='\\n', end='\\n\\n')\n",
    "\n",
    "print(f\"sales light trucks skew:{'{:,.2f}'.format(salesbymodel_cl.veh_sales.skew())}\",\n",
    "      f\"sales cars kurtosis:{'{:,.2f}'.format(salesbymodel_cl.veh_sales.kurtosis())}\",\n",
    "      f\"sales light trucks skew:{'{:,.2f}'.format(salesbymodel_auto.veh_sales.skew())}\",\n",
    "      f\"sales cars skew:{'{:,.2f}'.format(salesbymodel_auto.veh_sales.kurtosis())}\",\n",
    "      sep='\\n', end='\\n\\n')\n",
    "\n",
    "print(f\"hybrid sales skew:{'{:,.2f}'.format(hybridsalesbystate.veh_salesh.skew())}\",\n",
    "      f\"hybrid sales kurtosis:{'{:,.2f}'.format(hybridsalesbystate.veh_salesh.kurtosis())}\", sep='\\n')"
   ]
  },
  {
   "cell_type": "markdown",
   "id": "821f1529",
   "metadata": {
    "hidden": true
   },
   "source": [
    "#### Histogram of the production, export, and sales acummulated of light vehicles"
   ]
  },
  {
   "cell_type": "code",
   "execution_count": 31,
   "id": "7ccd7a46",
   "metadata": {
    "hidden": true,
    "scrolled": false
   },
   "outputs": [
    {
     "data": {
      "text/plain": [
       "Text(0.5, 0.98, 'Histogram of the automotive industry of light vehicles')"
      ]
     },
     "execution_count": 31,
     "metadata": {},
     "output_type": "execute_result"
    },
    {
     "data": {
      "image/png": "[encoded data removed]",
      "text/plain": [
       "<Figure size 640x480 with 6 Axes>"
      ]
     },
     "metadata": {},
     "output_type": "display_data"
    }
   ],
   "source": [
    "InteractiveShell.ast_node_interactivity = \"last\"\n",
    "fig, axes = plt.subplots(3, 2)\n",
    "fig.suptitle('Histogram of the automotive industry of light vehicles')\n",
    "axes = axes.ravel()\n",
    "#Plot producted vehicles\n",
    "raiavlfunctions.make_hist(productionbymodel_cl['veh_produced']/1000, 'Producted light trucks',\n",
    "          '',axes[0], bins=10)\n",
    "raiavlfunctions.make_hist(productionbymodel_auto['veh_produced']/1000, 'Producted cars',\n",
    "          '',axes[1], bins=10)\n",
    "#Plot Exports vehicles\n",
    "raiavlfunctions.make_hist(exportsbymodel_cl['veh_exports']/1000, 'Exports light trucks',\n",
    "          '',axes[2], bins=10)\n",
    "raiavlfunctions.make_hist(exportsbymodel_auto['veh_exports']/1000, 'Exports cars',\n",
    "          '',axes[3], bins=10)\n",
    "#Plot Sales vehicles\n",
    "raiavlfunctions.make_hist(salesbymodel_cl['veh_sales']/1000, 'Sales light trucks',\n",
    "          '',axes[4], bins=10)\n",
    "raiavlfunctions.make_hist(salesbymodel_auto['veh_sales']/1000, 'Sales cars',\n",
    "         'Vehicles(thousands)',axes[5], bins=10)\n",
    "plt.tight_layout()\n",
    "plt.show()"
   ]
  },
  {
   "cell_type": "code",
   "execution_count": 32,
   "id": "45d3cf3d",
   "metadata": {
    "hidden": true,
    "scrolled": true
   },
   "outputs": [
    {
     "data": {
      "image/png": "[encoded data removed]",
      "text/plain": [
       "<Figure size 460x400 with 1 Axes>"
      ]
     },
     "metadata": {},
     "output_type": "display_data"
    }
   ],
   "source": [
    "#Plot Hybrid Sales vehicles\n",
    "fig, ax = plt.subplots(1,1, figsize=(4.6,4))\n",
    "fig.suptitle('Histogram of the automotive industry of light vehicles')\n",
    "ax = axes.ravel()\n",
    "plt.hist(raiavl_hybridsales['veh_salesh'])\n",
    "plt.ylabel('Frequency')\n",
    "plt.xlabel('Hybrid sales')\n",
    "plt.tight_layout()\n",
    "plt.show()"
   ]
  },
  {
   "cell_type": "markdown",
   "id": "62f02de1",
   "metadata": {
    "hidden": true
   },
   "source": [
    "####  Test the Light Automotive data for normality\n",
    "We run formal test of normality, which indicate that the distributions of those collections of data  are not normal at high levels of significance.  This is consistent with the qqplots."
   ]
  },
  {
   "cell_type": "code",
   "execution_count": 33,
   "id": "9513102f",
   "metadata": {
    "hidden": true
   },
   "outputs": [
    {
     "name": "stdout",
     "output_type": "stream",
     "text": [
      "+++++++++++++++++++++SHAPIRO-WILK test+++++++++++++++++++++\n",
      "\n",
      "Production of cars and light trucks: 6.767911426598661e-13 ,  7.429812516092371e-13\n",
      "Exports of cars and light trucks:    2.1452046805592317e-09 , 4.089544241442367e-12\n",
      "Sale of cars and light trucks:       2.4905703906100674e-33 ,  9.80908925027372e-45\n",
      "Hybrid sales of cars: 1.693437279293164e-09\n"
     ]
    }
   ],
   "source": [
    "InteractiveShell.ast_node_interactivity = \"all\"\n",
    "print('+++++++++++++++++++++SHAPIRO-WILK test+++++++++++++++++++++\\n')\n",
    "print('Production of cars and light trucks:',\n",
    "      raiavlfunctions.testnorm('veh_produced', productionbymodel_cl),', ',\n",
    "      raiavlfunctions.testnorm('veh_produced', productionbymodel_auto))\n",
    "print('Exports of cars and light trucks:   ',\n",
    "      raiavlfunctions.testnorm('veh_exports', exportsbymodel_cl),',',\n",
    "      raiavlfunctions.testnorm('veh_exports', exportsbymodel_auto))\n",
    "print('Sale of cars and light trucks:      ',\n",
    "      raiavlfunctions.testnorm('veh_sales', salesbymodel_cl),', ',\n",
    "      raiavlfunctions.testnorm('veh_sales', salesbymodel_auto))\n",
    "print('Hybrid sales of cars:',\n",
    "      raiavlfunctions.testnorm('veh_salesh', hybridsalesbystate))"
   ]
  },
  {
   "cell_type": "markdown",
   "id": "f1aef956",
   "metadata": {
    "hidden": true
   },
   "source": [
    "#### QQ Plot of the automotive industry of light vehicles<br>\n",
    "\n",
    "The distribution of the sale, production and export of cars and light trucks differ significantly from normal, as represented by the straight line. "
   ]
  },
  {
   "cell_type": "code",
   "execution_count": 35,
   "id": "9b7f4a31",
   "metadata": {
    "hidden": true,
    "scrolled": false
   },
   "outputs": [
    {
     "data": {
      "image/png": "[encoded data removed]",
      "text/plain": [
       "<Figure size 640x480 with 6 Axes>"
      ]
     },
     "metadata": {},
     "output_type": "display_data"
    }
   ],
   "source": [
    "InteractiveShell.ast_node_interactivity = \"last\"\n",
    "fig, axes = plt.subplots(3,2)\n",
    "fig.suptitle('QQ Plot of the automotive industry of light vehicles')\n",
    "axes = axes.ravel()\n",
    "sns.set(font_scale=0.8)\n",
    "sns.color_palette(\"Paired\")\n",
    "sm.qqplot(productionbymodel_cl[['veh_produced']].sort_values(['veh_produced']), line='s', ax=axes[0])\n",
    "axes[0].set_title('Producted light trucks', fontsize=10)\n",
    "sm.qqplot(productionbymodel_auto[['veh_produced']].sort_values(['veh_produced']), line='s', ax=axes[1])\n",
    "axes[1].set_title('Producted cars', fontsize=10)\n",
    "sm.qqplot(exportsbymodel_cl[['veh_exports']].sort_values(['veh_exports']), line='s', ax=axes[2])\n",
    "axes[2].set_title('Exports light trucks', fontsize=10)\n",
    "sm.qqplot(exportsbymodel_auto[['veh_exports']].sort_values(['veh_exports']), line='s', ax=axes[3])\n",
    "axes[3].set_title('Exports cars', fontsize=10)\n",
    "sm.qqplot(salesbymodel_cl[['veh_sales']].sort_values(['veh_sales']), line='s', ax=axes[4])\n",
    "axes[4].set_title('Sales light trucks', fontsize=10)\n",
    "sm.qqplot(salesbymodel_auto[['veh_sales']].sort_values(['veh_sales']), line='s', ax=axes[5])\n",
    "axes[5].set_title('Sales cars', fontsize=10)\n",
    "plt.tight_layout()\n",
    "plt.show()"
   ]
  },
  {
   "cell_type": "markdown",
   "id": "e6d3c31e",
   "metadata": {
    "hidden": true
   },
   "source": [
    "#### Generate a data frame of outliers and write it to Excel\n",
    "Determines outlier thresholds for the produced, exports, and sales light vehicles from Mexico, setting this at 1.5 times the interquartile range(the distance between the first and third quartile) below the first quartile or above the third quartile in base the cumulative quantity(2005-2023) by model and type of vehicle."
   ]
  },
  {
   "cell_type": "code",
   "execution_count": 36,
   "id": "6b24c1d3",
   "metadata": {
    "hidden": true
   },
   "outputs": [],
   "source": [
    "#Generate a data frame of outliers and write it to Excel\n",
    "outliers = pd.DataFrame(columns=['type','brand','model','quantity'], data=None)\n",
    "dfout = raiavlfunctions.get_outliers(productionbymodel_cl,'veh_produced', carsvars)\n",
    "outliers = pd.concat([outliers, dfout])\n",
    "dfout = raiavlfunctions.get_outliers(productionbymodel_auto,'veh_produced', carsvars)\n",
    "outliers = pd.concat([outliers, dfout])\n",
    "\n",
    "dfout = raiavlfunctions.get_outliers(exportsbymodel_cl, 'veh_exports', carsvars)\n",
    "outliers = pd.concat([outliers,dfout])\n",
    "dfout = raiavlfunctions.get_outliers(exportsbymodel_auto, 'veh_exports', carsvars)\n",
    "outliers = pd.concat([outliers,dfout])\n",
    "\n",
    "dfout = raiavlfunctions.get_outliers(salesbymodel_cl, 'veh_sales',carsvars)\n",
    "outliers = pd.concat([outliers,dfout])\n",
    "dfout = raiavlfunctions.get_outliers(salesbymodel_auto, 'veh_sales',carsvars)\n",
    "outliers = pd.concat([outliers,dfout])\n",
    "outliers.to_excel('views/outliersvehicles.xlsx')"
   ]
  },
  {
   "cell_type": "markdown",
   "id": "97f192b7",
   "metadata": {
    "hidden": true
   },
   "source": [
    "#### First Look at outliers"
   ]
  },
  {
   "cell_type": "code",
   "execution_count": 37,
   "id": "8776ca56",
   "metadata": {
    "hidden": true
   },
   "outputs": [
    {
     "data": {
      "text/plain": [
       "veh_sales       169\n",
       "veh_produced     14\n",
       "veh_exports      11\n",
       "Name: varname, dtype: int64"
      ]
     },
     "execution_count": 37,
     "metadata": {},
     "output_type": "execute_result"
    }
   ],
   "source": [
    "outliers.varname.value_counts()"
   ]
  },
  {
   "cell_type": "code",
   "execution_count": 38,
   "id": "ab19dccf",
   "metadata": {
    "hidden": true
   },
   "outputs": [
    {
     "data": {
      "text/html": [
       "<div>\n",
       "<style scoped>\n",
       "    .dataframe tbody tr th:only-of-type {\n",
       "        vertical-align: middle;\n",
       "    }\n",
       "\n",
       "    .dataframe tbody tr th {\n",
       "        vertical-align: top;\n",
       "    }\n",
       "\n",
       "    .dataframe thead th {\n",
       "        text-align: right;\n",
       "    }\n",
       "</style>\n",
       "<table border=\"1\" class=\"dataframe\">\n",
       "  <thead>\n",
       "    <tr style=\"text-align: right;\">\n",
       "      <th></th>\n",
       "      <th>type</th>\n",
       "      <th>brand</th>\n",
       "      <th>model</th>\n",
       "      <th>quantity</th>\n",
       "      <th>varname</th>\n",
       "      <th>threshold_low</th>\n",
       "      <th>threshold_high</th>\n",
       "    </tr>\n",
       "  </thead>\n",
       "  <tbody>\n",
       "    <tr>\n",
       "      <th>849</th>\n",
       "      <td>Automóviles</td>\n",
       "      <td>Volkswagen</td>\n",
       "      <td>bora</td>\n",
       "      <td>957026</td>\n",
       "      <td>veh_exports</td>\n",
       "      <td>-464,693.25</td>\n",
       "      <td>822,856.75</td>\n",
       "    </tr>\n",
       "    <tr>\n",
       "      <th>6826</th>\n",
       "      <td>Automóviles</td>\n",
       "      <td>Honda</td>\n",
       "      <td>civic</td>\n",
       "      <td>127859</td>\n",
       "      <td>veh_sales</td>\n",
       "      <td>-9,493.00</td>\n",
       "      <td>16,157.00</td>\n",
       "    </tr>\n",
       "    <tr>\n",
       "      <th>20503</th>\n",
       "      <td>Camiones ligeros</td>\n",
       "      <td>Ford Motor</td>\n",
       "      <td>explorer</td>\n",
       "      <td>48658</td>\n",
       "      <td>veh_sales</td>\n",
       "      <td>-25,786.75</td>\n",
       "      <td>45,851.25</td>\n",
       "    </tr>\n",
       "    <tr>\n",
       "      <th>425</th>\n",
       "      <td>Automóviles</td>\n",
       "      <td>Ford Motor</td>\n",
       "      <td>fusion</td>\n",
       "      <td>3299318</td>\n",
       "      <td>veh_produced</td>\n",
       "      <td>-657,107.25</td>\n",
       "      <td>1,150,324.75</td>\n",
       "    </tr>\n",
       "    <tr>\n",
       "      <th>21204</th>\n",
       "      <td>Camiones ligeros</td>\n",
       "      <td>General Motors</td>\n",
       "      <td>trax</td>\n",
       "      <td>146445</td>\n",
       "      <td>veh_sales</td>\n",
       "      <td>-25,786.75</td>\n",
       "      <td>45,851.25</td>\n",
       "    </tr>\n",
       "    <tr>\n",
       "      <th>1951</th>\n",
       "      <td>Camiones ligeros</td>\n",
       "      <td>Chrysler</td>\n",
       "      <td>jeep_compass</td>\n",
       "      <td>981674</td>\n",
       "      <td>veh_produced</td>\n",
       "      <td>-520,230.00</td>\n",
       "      <td>875,786.00</td>\n",
       "    </tr>\n",
       "    <tr>\n",
       "      <th>10930</th>\n",
       "      <td>Automóviles</td>\n",
       "      <td>KIA</td>\n",
       "      <td>forte</td>\n",
       "      <td>103675</td>\n",
       "      <td>veh_sales</td>\n",
       "      <td>-9,493.00</td>\n",
       "      <td>16,157.00</td>\n",
       "    </tr>\n",
       "    <tr>\n",
       "      <th>19750</th>\n",
       "      <td>Camiones ligeros</td>\n",
       "      <td>Chrysler</td>\n",
       "      <td>patriot</td>\n",
       "      <td>76530</td>\n",
       "      <td>veh_sales</td>\n",
       "      <td>-25,786.75</td>\n",
       "      <td>45,851.25</td>\n",
       "    </tr>\n",
       "    <tr>\n",
       "      <th>5097</th>\n",
       "      <td>Automóviles</td>\n",
       "      <td>Fiat</td>\n",
       "      <td>mobi</td>\n",
       "      <td>22505</td>\n",
       "      <td>veh_sales</td>\n",
       "      <td>-9,493.00</td>\n",
       "      <td>16,157.00</td>\n",
       "    </tr>\n",
       "    <tr>\n",
       "      <th>20822</th>\n",
       "      <td>Automóviles</td>\n",
       "      <td>SEAT</td>\n",
       "      <td>cordoba</td>\n",
       "      <td>24171</td>\n",
       "      <td>veh_sales</td>\n",
       "      <td>-9,493.00</td>\n",
       "      <td>16,157.00</td>\n",
       "    </tr>\n",
       "  </tbody>\n",
       "</table>\n",
       "</div>"
      ],
      "text/plain": [
       "                   type           brand         model quantity       varname  \\\n",
       "849         Automóviles      Volkswagen          bora   957026   veh_exports   \n",
       "6826        Automóviles           Honda         civic   127859     veh_sales   \n",
       "20503  Camiones ligeros      Ford Motor      explorer    48658     veh_sales   \n",
       "425         Automóviles      Ford Motor        fusion  3299318  veh_produced   \n",
       "21204  Camiones ligeros  General Motors          trax   146445     veh_sales   \n",
       "1951   Camiones ligeros        Chrysler  jeep_compass   981674  veh_produced   \n",
       "10930       Automóviles             KIA         forte   103675     veh_sales   \n",
       "19750  Camiones ligeros        Chrysler       patriot    76530     veh_sales   \n",
       "5097        Automóviles            Fiat          mobi    22505     veh_sales   \n",
       "20822       Automóviles            SEAT       cordoba    24171     veh_sales   \n",
       "\n",
       "       threshold_low  threshold_high  \n",
       "849      -464,693.25      822,856.75  \n",
       "6826       -9,493.00       16,157.00  \n",
       "20503     -25,786.75       45,851.25  \n",
       "425      -657,107.25    1,150,324.75  \n",
       "21204     -25,786.75       45,851.25  \n",
       "1951     -520,230.00      875,786.00  \n",
       "10930      -9,493.00       16,157.00  \n",
       "19750     -25,786.75       45,851.25  \n",
       "5097       -9,493.00       16,157.00  \n",
       "20822      -9,493.00       16,157.00  "
      ]
     },
     "execution_count": 38,
     "metadata": {},
     "output_type": "execute_result"
    }
   ],
   "source": [
    "outliers.sample(10, random_state=2)"
   ]
  },
  {
   "cell_type": "markdown",
   "id": "2b03ced6",
   "metadata": {
    "hidden": true
   },
   "source": [
    "<a id='section_2'></a>\n",
    "### 2.0 Examine trends lines in the produced, export, and sales of Mexico light vehicles over time.<br>\n",
    "The plots produced reveals a couple of potential data issues. There are unusual spikes in 2009 and 2020."
   ]
  },
  {
   "cell_type": "code",
   "execution_count": 39,
   "id": "5733b845",
   "metadata": {
    "hidden": true
   },
   "outputs": [],
   "source": [
    "columsanalysis = ['year', 'type', 'veh_produced']\n",
    "productiontotals = raiavl_production.loc[(raiavl_production.year<=2023), columsanalysis].\\\n",
    "    groupby(['year', 'type'])['veh_produced'].sum().reset_index()\n",
    "productionall = productiontotals.groupby(['year'])['veh_produced'].sum().reset_index()"
   ]
  },
  {
   "cell_type": "code",
   "execution_count": 40,
   "id": "e938352c",
   "metadata": {
    "hidden": true,
    "scrolled": false
   },
   "outputs": [
    {
     "data": {
      "image/png": "[encoded data removed]",
      "text/plain": [
       "<Figure size 600x500 with 2 Axes>"
      ]
     },
     "metadata": {},
     "output_type": "display_data"
    }
   ],
   "source": [
    "fig, axes = plt.subplots(2,1, figsize=(6,5))\n",
    "#Plot Vehicles Produced in Mexico by Year\n",
    "raiavlfunctions.make_lineplot(productionall,valuex='year', valuey='veh_produced',\n",
    "              ax=axes[0],xlima=2005, xlimb=2024, ylabel='Vehicles(millions)', hue=None)\n",
    "plt.suptitle('Vehicles Produced in Mexico by Year', size=12, color='black')\n",
    "\n",
    "#Plot Vehicles Produced in Mexico by Year, split by Type of Vehicle\n",
    "raiavlfunctions.make_lineplot(productiontotals,valuex='year', valuey='veh_produced',\n",
    "              ax=axes[1],xlima=2005, xlimb=2024,xlabel='Year',\n",
    "              ylabel='Vehicles(millions)', hue='type')\n",
    "plt.tight_layout()\n",
    "plt.show()"
   ]
  },
  {
   "cell_type": "code",
   "execution_count": 41,
   "id": "d27ae15f",
   "metadata": {
    "hidden": true
   },
   "outputs": [],
   "source": [
    "columnsanalysis = ['year', 'type', 'veh_exports']\n",
    "exportstotals = raiavl_exports.loc[(raiavl_exports.year<=2023),columnsanalysis].\\\n",
    "    groupby(['year', 'type'])['veh_exports'].sum().reset_index()\n",
    "exportsall = exportstotals.groupby(['year'])['veh_exports'].sum().reset_index()"
   ]
  },
  {
   "cell_type": "code",
   "execution_count": 42,
   "id": "a16bfb09",
   "metadata": {
    "hidden": true,
    "scrolled": true
   },
   "outputs": [
    {
     "data": {
      "image/png": "[encoded data removed]",
      "text/plain": [
       "<Figure size 600x500 with 2 Axes>"
      ]
     },
     "metadata": {},
     "output_type": "display_data"
    }
   ],
   "source": [
    "fig ,axes = plt.subplots(2,1, figsize=(6,5))\n",
    "#Plot Vehicles Exports from Mexico by Year\n",
    "raiavlfunctions.make_lineplot(exportsall, valuex='year', valuey='veh_exports',\n",
    "                              ax=axes[0],xlima=2005,xlimb=2024, hue=None, xlabel='',\n",
    "                              ylabel='Vehicles(millions)')\n",
    "plt.suptitle('Vehicles Exports from Mexico by Year', size=12, color='black')\n",
    "\n",
    "#Plot Vehicles Exports from Mexico by Year, split by Type of Vehicle\n",
    "raiavlfunctions.make_lineplot(data=exportstotals,valuex='year', valuey='veh_exports',\n",
    "                             ax=axes[1], xlima=2005, xlimb=2024, hue='type',\n",
    "                              xlabel='Year', ylabel='Vehicles(millions)')\n",
    "plt.tight_layout()\n",
    "plt.show()"
   ]
  },
  {
   "cell_type": "code",
   "execution_count": 43,
   "id": "17b5be52",
   "metadata": {
    "hidden": true
   },
   "outputs": [],
   "source": [
    "columnsanalysis = ['year', 'type', 'veh_sales']\n",
    "salestotals = raiavl_sales.loc[(raiavl_sales.year<=2023),columnsanalysis].\\\n",
    "    groupby(['year', 'type'])['veh_sales'].sum().reset_index()\n",
    "salesall = salestotals.groupby(['year'])['veh_sales'].sum().reset_index()"
   ]
  },
  {
   "cell_type": "code",
   "execution_count": 44,
   "id": "be133288",
   "metadata": {
    "hidden": true
   },
   "outputs": [
    {
     "data": {
      "image/png": "[encoded data removed]",
      "text/plain": [
       "<Figure size 600x500 with 2 Axes>"
      ]
     },
     "metadata": {},
     "output_type": "display_data"
    }
   ],
   "source": [
    "fig ,axes = plt.subplots(2,1, figsize=(6,5))\n",
    "#Plot Vehicles Sales in Mexico by Year\n",
    "raiavlfunctions.make_lineplot(salesall, valuex='year', valuey='veh_sales',\n",
    "                              ax=axes[0],xlima=2005,xlimb=2023, hue=None, xlabel='',\n",
    "                              ylabel='Vehicles(millions)')\n",
    "plt.suptitle('Vehicles Sales in Mexico by Year', size=12, color='black')\n",
    "\n",
    "#Plot Vehicles Sales from Mexico by Year, split by Type of Vehicle\n",
    "raiavlfunctions.make_lineplot(data=salestotals,valuex='year', valuey='veh_sales',\n",
    "                             ax=axes[1], xlima=2005, xlimb=2023, hue='type',\n",
    "                              xlabel='Year', ylabel='Vehicles(millions)')\n",
    "plt.tight_layout()\n",
    "plt.show()"
   ]
  },
  {
   "cell_type": "code",
   "execution_count": 45,
   "id": "05a5a1c0",
   "metadata": {
    "hidden": true
   },
   "outputs": [],
   "source": [
    "columnsanalysis = ['year','veh_salesh']\n",
    "hybridsalestotals = raiavl_hybridsales.loc[(raiavl_hybridsales.year<=2023),columnsanalysis].\\\n",
    "    groupby(['year'])['veh_salesh'].sum().reset_index()"
   ]
  },
  {
   "cell_type": "code",
   "execution_count": 46,
   "id": "c90c37e1",
   "metadata": {
    "hidden": true,
    "scrolled": false
   },
   "outputs": [
    {
     "data": {
      "image/png": "[encoded data removed]",
      "text/plain": [
       "<Figure size 460x400 with 1 Axes>"
      ]
     },
     "metadata": {},
     "output_type": "display_data"
    }
   ],
   "source": [
    "fig ,axes = plt.subplots(1,1, figsize=(4.6,4))\n",
    "#Plot Vehicles Hybrid sales in Mexico by Year\n",
    "raiavlfunctions.make_lineplot(data=hybridsalestotals,valuex='year',valuey='veh_salesh',\n",
    "                             ax=axes,xlima=2016,xlimb=2022,hue=None,\n",
    "                              xlabel='Year',ylabel='Vehicles', fmillion=False)\n",
    "plt.suptitle('Vehicles Hybrid Sales in Mexico by Year', size=12, color='black')\n",
    "plt.tight_layout()\n",
    "plt.show()"
   ]
  },
  {
   "cell_type": "markdown",
   "id": "b141e172",
   "metadata": {},
   "source": [
    "### To use a stacked plot to examine the downtick in 2009 and 2020 more closely.\n",
    "These plots suggest that the decrease in exports of 2009 and 2020 is driven by downtick in January 2009 and April 2020 in the compacts and Suv's vehicles."
   ]
  },
  {
   "cell_type": "code",
   "execution_count": 47,
   "id": "b0afe314",
   "metadata": {
    "scrolled": false
   },
   "outputs": [],
   "source": [
    "compacts_suv = raiavl_exports.loc[(raiavl_exports.year.isin([2008,2009,2019,2020]))\n",
    "                              &(raiavl_exports.segment.isin(['Compactos','SUV\\'s'])),\n",
    "                              ['year','monthid', 'veh_exports']].rename(\n",
    "                              columns={'veh_exports':'compacts_suv_exports'})\n",
    "compacts_suv = compacts_suv.groupby(['year','monthid'])['compacts_suv_exports'].sum().reset_index()\n",
    "compacts_suv['exportsdate'] = pd.to_datetime(dict(year=compacts_suv.year,\n",
    "                                                  month=compacts_suv.monthid,day=15))\n",
    "othersegment = raiavl_exports.loc[(raiavl_exports.year.isin([2008,2009,2019,2020]))\n",
    "                                  &~(raiavl_exports.segment.isin(['Compactos','SUV\\'s'])),\n",
    "                                 ['year','monthid', 'veh_exports']].rename(\n",
    "                                 columns={'veh_exports':'others_exports'})\n",
    "othersegment = othersegment.groupby(['year','monthid'])['others_exports'].sum().reset_index()\n",
    "othersegment['exportsdate'] = pd.to_datetime(dict(year=othersegment.year,\n",
    "                                                  month=othersegment.monthid, day=15))\n",
    "segmentexports = pd.merge(compacts_suv[['exportsdate', 'compacts_suv_exports']],\n",
    "                          othersegment[['exportsdate', 'others_exports']],\n",
    "                          left_on=['exportsdate'], right_on=['exportsdate'], how='left')"
   ]
  },
  {
   "cell_type": "code",
   "execution_count": 48,
   "id": "9b476989",
   "metadata": {
    "scrolled": false
   },
   "outputs": [
    {
     "data": {
      "image/png": "[encoded data removed]",
      "text/plain": [
       "<Figure size 640x480 with 1 Axes>"
      ]
     },
     "metadata": {},
     "output_type": "display_data"
    }
   ],
   "source": [
    "fig = plt.figure()\n",
    "ax = plt.subplot()\n",
    "ax.stackplot(segmentexports.loc[segmentexports.exportsdate<='2009-12-31'].exportsdate,\n",
    "             segmentexports.loc[segmentexports.exportsdate<='2009-12-31'].compacts_suv_exports,\n",
    "             segmentexports.loc[segmentexports.exportsdate<='2009-12-31'].others_exports,\n",
    "            labels=['Suv\\'s and Compacts exports', 'Others exports'])\n",
    "ax.axes.xaxis.set_ticks(ax.axes.get_xticks())\n",
    "ax.set_xticklabels(ax.axes.get_xticklabels(), rotation=45)\n",
    "ax.xaxis.set_major_formatter(DateFormatter('%m-%Y'))\n",
    "plt.title('Exports  vehicles by segment 2008-2009')\n",
    "plt.tight_layout()\n",
    "plt.legend(loc='upper left')\n",
    "plt.show()"
   ]
  },
  {
   "cell_type": "code",
   "execution_count": 50,
   "id": "0ef9a887",
   "metadata": {
    "scrolled": false
   },
   "outputs": [
    {
     "data": {
      "image/png": "[encoded data removed]",
      "text/plain": [
       "<Figure size 640x480 with 1 Axes>"
      ]
     },
     "metadata": {},
     "output_type": "display_data"
    }
   ],
   "source": [
    "fig = plt.figure()\n",
    "ax = plt.subplot()\n",
    "ax.stackplot(segmentexports.loc[segmentexports.exportsdate>'2009-12-31'].exportsdate,\n",
    "             segmentexports.loc[segmentexports.exportsdate>'2009-12-31'].compacts_suv_exports,\n",
    "             segmentexports.loc[segmentexports.exportsdate>'2009-12-31'].others_exports,\n",
    "            labels=['Suv\\'s and Compacts exports', 'Others exports'])\n",
    "ax.axes.xaxis.set_ticks(ax.axes.get_xticks())\n",
    "ax.set_xticklabels(ax.axes.get_xticklabels(), rotation=45)\n",
    "ax.xaxis.set_major_formatter(DateFormatter('%m-%Y'))\n",
    "plt.title('Exports  vehicles by segment 2019-2020')\n",
    "plt.tight_layout()\n",
    "plt.legend(loc='upper left')\n",
    "plt.show()"
   ]
  },
  {
   "cell_type": "markdown",
   "id": "7e30cbee",
   "metadata": {},
   "source": [
    "<a id='section_3'></a>\n",
    "### 3.0 Examine accumulated exports by destination from 2005-2022<br>\n",
    "The graph reveals that from 2005 to 2022 United States received 74% of the exports vehicles from Mexico."
   ]
  },
  {
   "cell_type": "code",
   "execution_count": 64,
   "id": "8ff1e276",
   "metadata": {},
   "outputs": [],
   "source": [
    "exportstotals = raiavl_exports.loc[raiavl_exports.year.between(2005,2022),\n",
    "                                  ['country','veh_exports']]\n",
    "exportstotals = exportstotals.groupby(['country'])['veh_exports'].sum().reset_index()\n",
    "exportstotals = exportstotals[exportstotals.veh_exports>0].sort_values('veh_exports', ascending=False)\n",
    "topfive = exportstotals[['country','veh_exports']].nlargest(4, columns='veh_exports').country\n",
    "topfive = topfive.cat.remove_unused_categories()\n",
    "exportstotals['topfive'] = exportstotals['country']\n",
    "exportstotals['topfive'] = exportstotals['topfive'].cat.add_categories('Others countries')\n",
    "exportstotals.loc[~exportstotals.topfive.isin(topfive),['topfive']] = 'Others countries'\n",
    "exportstotals['topfive'] = exportstotals.topfive.cat.remove_unused_categories()\n",
    "exportstotals = exportstotals.groupby(['topfive'])['veh_exports'].sum().\\\n",
    "    sort_values( ascending=False).reset_index()\n",
    "exportstotals['cum'] = exportstotals['veh_exports'].\\\n",
    "    cumsum()/exportstotals['veh_exports'].sum()\n",
    "exportstotals['topfive'] = exportstotals.topfive.cat.reorder_categories(\n",
    "[country for country in exportstotals.topfive], ordered=True)"
   ]
  },
  {
   "cell_type": "code",
   "execution_count": 65,
   "id": "04501466",
   "metadata": {
    "scrolled": false
   },
   "outputs": [
    {
     "data": {
      "image/png": "[encoded data removed]",
      "text/plain": [
       "<Figure size 640x480 with 2 Axes>"
      ]
     },
     "metadata": {},
     "output_type": "display_data"
    }
   ],
   "source": [
    "fig, ax = plt.subplots()\n",
    "sns.set_theme(style='dark')\n",
    "sns.set(font_scale=0.7)\n",
    "sns.color_palette(\"Paired\")\n",
    "\n",
    "ax1 = sns.barplot(data=exportstotals, x='topfive', y='veh_exports', ax=ax)\n",
    "ax1.set_ylabel('Vehicles(millions)', fontdict={'fontsize':9})\n",
    "ax1.set_xlabel('')\n",
    "ax1.yaxis.set_major_formatter(raiavlfunctions.formatter)\n",
    "\n",
    "ax2 = ax.twinx()\n",
    "g = sns.lineplot(data=exportstotals, x='topfive', y='cum', ax=ax2, color='red')\n",
    "formatted_cum = ['{0:.0%}'.format(x) for x in exportstotals.cum]\n",
    "x = exportstotals.topfive.values\n",
    "y = exportstotals.cum.values\n",
    "for i, label in enumerate(formatted_cum):\n",
    "    g.annotate(formatted_cum[i],(x[i],y[i]), fontweight='heavy')\n",
    "g.set_yticks([])\n",
    "g.set_ylabel('')\n",
    "plt.suptitle('Vehicles accumulated exports from Mexico to your Top Five countries\\n (2005-2022)')\n",
    "plt.show()\n"
   ]
  },
  {
   "cell_type": "markdown",
   "id": "6439e919",
   "metadata": {},
   "source": [
    "<a id='section_4'></a>\n",
    "## 4.0 Summary and next steps<br><br>\n",
    "\n",
    "For exploratory data analysis of the Registro Administrativo de la Industria Automotriz de Vehículos Ligeros (RAIAVL) cut to May 2023, files in .csv format was collected from the website of the Instituto Nacional de Estadística y Geografía(INEGI), corresponding to production, export and sale of cars and light trucks in Mexico from the years 2005 to May 2023. These data were imported and organized to generate frequencies and percentages in categorical data; inconsistencies were identified  and cleaned(negative values, missing data), likewise, descriptive statistics were generated.<br><br>\n",
    "Using histogram plot, QQ plot, skewness and kurtosis calculation and Shapiro-Wilk test detected that the data is not quite normally distributed.<br><br>\n",
    "\n",
    "Subsequently, the unit of the analysis was changed by grouping by brand, model, and type of segment of light vehicles to identify probably outliers, that in this first review are not necessarily data collection or measurement errors. However, extreme values can have a meaningful impact on our analysis.<br><br>\n",
    "\n",
    "On the annual trend graph, it was observed that there are unusual peaks driven by downtick in January 2009 and April 2020 in the compacts and SUVs vehicles.<br><br>\n",
    "\n",
    "Finally the graph of accumulated exports by destination from the years 2005 to 2022 indicates that United States received 74% of the exports vehicles from Mexico.<br><br>\n",
    "\n",
    "In the next steps we'll work by identifying whether an observed pattern will likely hold beyond the date set, finding the correlation between variables to understand the data much better and apply statistical analysis.<br>\n",
    "Greetings!<br>\n",
    "ACC\n",
    "\n",
    "\n"
   ]
  }
 ],
 "metadata": {
  "kernelspec": {
   "display_name": "Python 3 (ipykernel)",
   "language": "python",
   "name": "python3"
  },
  "language_info": {
   "codemirror_mode": {
    "name": "ipython",
    "version": 3
   },
   "file_extension": ".py",
   "mimetype": "text/x-python",
   "name": "python",
   "nbconvert_exporter": "python",
   "pygments_lexer": "ipython3",
   "version": "3.10.12"
  },
  "toc": {
   "base_numbering": 1,
   "nav_menu": {},
   "number_sections": true,
   "sideBar": true,
   "skip_h1_title": false,
   "title_cell": "Table of Contents",
   "title_sidebar": "Contents",
   "toc_cell": false,
   "toc_position": {},
   "toc_section_display": true,
   "toc_window_display": true
  },
  "varInspector": {
   "cols": {
    "lenName": 16,
    "lenType": 16,
    "lenVar": 40
   },
   "kernels_config": {
    "python": {
     "delete_cmd_postfix": "",
     "delete_cmd_prefix": "del ",
     "library": "var_list.py",
     "varRefreshCmd": "print(var_dic_list())"
    },
    "r": {
     "delete_cmd_postfix": ") ",
     "delete_cmd_prefix": "rm(",
     "library": "var_list.r",
     "varRefreshCmd": "cat(var_dic_list()) "
    }
   },
   "types_to_exclude": [
    "module",
    "function",
    "builtin_function_or_method",
    "instance",
    "_Feature"
   ],
   "window_display": false
  }
 },
 "nbformat": 4,
 "nbformat_minor": 5
}
